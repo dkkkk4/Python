{
  "nbformat": 4,
  "nbformat_minor": 0,
  "metadata": {
    "colab": {
      "provenance": [],
      "authorship_tag": "ABX9TyNyFFI0VW/gECCRkhJe9fI/",
      "include_colab_link": true
    },
    "kernelspec": {
      "name": "python3",
      "display_name": "Python 3"
    },
    "language_info": {
      "name": "python"
    }
  },
  "cells": [
    {
      "cell_type": "markdown",
      "metadata": {
        "id": "view-in-github",
        "colab_type": "text"
      },
      "source": [
        "<a href=\"https://colab.research.google.com/github/dkkkk4/Python/blob/main/Matrix_operations(2D-list).ipynb\" target=\"_parent\"><img src=\"https://colab.research.google.com/assets/colab-badge.svg\" alt=\"Open In Colab\"/></a>"
      ]
    },
    {
      "cell_type": "markdown",
      "source": [
        "## **Interchange Value with index**"
      ],
      "metadata": {
        "id": "ZoUrcc7kh9Xg"
      }
    },
    {
      "cell_type": "code",
      "execution_count": null,
      "metadata": {
        "colab": {
          "base_uri": "https://localhost:8080/"
        },
        "id": "2xJeJR8RouER",
        "outputId": "657dffc2-e701-4246-9ae1-ec6be77df8a0"
      },
      "outputs": [
        {
          "output_type": "stream",
          "name": "stdout",
          "text": [
            "[2, 11, 12, 10, 3, 8, 6, 7, 5, 0, 13, 1, 14, 4, 9]\n"
          ]
        }
      ],
      "source": [
        "def solve(A):\n",
        "        B = [None for i in range(len(A))]\n",
        "        for i in range(len(A)):\n",
        "            B[A[i]] = i\n",
        "        return B\n",
        "\n",
        "A = [9,11,0,4,13,8,6,7,5,14,3,1,2,10,12]\n",
        "print(solve(A))\n",
        "\n"
      ]
    },
    {
      "cell_type": "markdown",
      "source": [
        "## **Matrix Addition**"
      ],
      "metadata": {
        "id": "9IHEOwxmh0Bk"
      }
    },
    {
      "cell_type": "code",
      "source": [
        "def solve( A, B):\n",
        "\n",
        "        for i in range(len(A)):\n",
        "            for j in range(len(A[i])):\n",
        "                A[i][j] = A[i][j] + B[i][j]\n",
        "\n",
        "        return A\n",
        "\n",
        "A = [[1, 2, 3],\n",
        "     [4, 5, 6],\n",
        "     [7, 8, 9]]\n",
        "B = [[9, 8, 7],\n",
        "     [6, 5, 4],\n",
        "     [3, 2, 1]]\n",
        "\n",
        "print(solve(A,B))"
      ],
      "metadata": {
        "colab": {
          "base_uri": "https://localhost:8080/"
        },
        "id": "CzASfSDHhQyI",
        "outputId": "8e5d95c2-596b-41e9-c538-ad0eb6303f3d"
      },
      "execution_count": null,
      "outputs": [
        {
          "output_type": "stream",
          "name": "stdout",
          "text": [
            "[[10, 10, 10], [10, 10, 10], [10, 10, 10]]\n"
          ]
        }
      ]
    },
    {
      "cell_type": "markdown",
      "source": [
        "### **Initialising an Empty 2D list**"
      ],
      "metadata": {
        "id": "Y484biOz3n0V"
      }
    },
    {
      "cell_type": "code",
      "source": [
        "A = [[1, 2],[3, 4],[9, 8]]\n",
        "B = [[5, 6],[7, 8]]\n",
        "res = [[None]*len(B[0])]*len(A)\n",
        "res\n"
      ],
      "metadata": {
        "id": "Jx5H5CoJiKZg",
        "colab": {
          "base_uri": "https://localhost:8080/"
        },
        "outputId": "93543752-ed88-4140-9f39-e98761555236"
      },
      "execution_count": null,
      "outputs": [
        {
          "output_type": "execute_result",
          "data": {
            "text/plain": [
              "[[None, None], [None, None], [None, None]]"
            ]
          },
          "metadata": {},
          "execution_count": 5
        }
      ]
    },
    {
      "cell_type": "markdown",
      "source": [
        "## **Matrix Transpose**"
      ],
      "metadata": {
        "id": "jIiT5vZ1IgGu"
      }
    },
    {
      "cell_type": "code",
      "source": [
        "def solve( A):\n",
        "      transpose = []\n",
        "\n",
        "      for i in range(len(A[0])):\n",
        "          temp = []\n",
        "          for j in range(len(A)):\n",
        "              temp.append(A[j][i])\n",
        "          transpose.append(temp)\n",
        "      for i in transpose:\n",
        "          print(i)\n",
        "\n",
        "A = [[1, 2],\n",
        "     [1, 2],\n",
        "     [1, 2]]\n",
        "solve(A)"
      ],
      "metadata": {
        "colab": {
          "base_uri": "https://localhost:8080/"
        },
        "id": "60aX0kW732t7",
        "outputId": "ab1cc9c6-d1c0-4b0f-c93d-1093b0d66112"
      },
      "execution_count": 3,
      "outputs": [
        {
          "output_type": "stream",
          "name": "stdout",
          "text": [
            "[1, 1, 1]\n",
            "[2, 2, 2]\n"
          ]
        }
      ]
    },
    {
      "cell_type": "markdown",
      "source": [
        "## **Matrix Multiplication**"
      ],
      "metadata": {
        "id": "3kcMinuGAWR1"
      }
    },
    {
      "cell_type": "code",
      "source": [
        "def solve( A, B):\n",
        "    mul = []\n",
        "    for i in range(len(A)):\n",
        "        temp = []\n",
        "        for j in range(len(B[0])):\n",
        "            res = 0\n",
        "            for k in range(len(B)):\n",
        "                res+= A[i][k]*B[k][j]\n",
        "            temp.append(res)\n",
        "        mul.append(temp)\n",
        "    for i in mul:\n",
        "      print(i)\n",
        "\n",
        "A = [[1, 2],\n",
        "     [3, 4]]\n",
        "B = [[5, 6],\n",
        "     [7, 8]]\n",
        "solve(A,B)"
      ],
      "metadata": {
        "id": "9SPhCOC0AV2g",
        "outputId": "02d3ac09-ed4d-4d4a-f129-3f792fae7e53",
        "colab": {
          "base_uri": "https://localhost:8080/"
        }
      },
      "execution_count": 5,
      "outputs": [
        {
          "output_type": "stream",
          "name": "stdout",
          "text": [
            "[19, 22]\n",
            "[43, 50]\n"
          ]
        }
      ]
    }
  ]
}