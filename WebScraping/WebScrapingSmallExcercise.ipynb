{
  "nbformat": 4,
  "nbformat_minor": 0,
  "metadata": {
    "colab": {
      "provenance": [],
      "authorship_tag": "ABX9TyONQaLYeJ5h8apxX5FlAPew",
      "include_colab_link": true
    },
    "kernelspec": {
      "name": "python3",
      "display_name": "Python 3"
    },
    "language_info": {
      "name": "python"
    }
  },
  "cells": [
    {
      "cell_type": "markdown",
      "metadata": {
        "id": "view-in-github",
        "colab_type": "text"
      },
      "source": [
        "<a href=\"https://colab.research.google.com/github/dkkkk4/Python/blob/main/WebScraping/WebScrapingSmallExcercise.ipynb\" target=\"_parent\"><img src=\"https://colab.research.google.com/assets/colab-badge.svg\" alt=\"Open In Colab\"/></a>"
      ]
    },
    {
      "cell_type": "code",
      "execution_count": 1,
      "metadata": {
        "id": "PDiNQVJskeJo"
      },
      "outputs": [],
      "source": [
        "data = \"\"\"\n",
        "<!DOCTYPE html>\n",
        "<html>\n",
        "<head>\n",
        "<title>Product Data</title>\n",
        "</head>\n",
        "<body>\n",
        "<table>\n",
        "<thead>\n",
        "<tr>\n",
        "<th>Product Name</th>\n",
        "<th>Price</th>\n",
        "<th>Category</th>\n",
        "</tr>\n",
        "</thead>\n",
        "<tbody>\n",
        "<tr>\n",
        "<td>Laptop</td>\n",
        "<td>999</td>\n",
        "<td>Electronics</td>\n",
        "</tr>\n",
        "<tr>\n",
        "<td>Smartwatch</td>\n",
        "<td>250</td>\n",
        "<td>Wearables</td>\n",
        "</tr>\n",
        "<tr>\n",
        "<td>Novel</td>\n",
        "<td>15.99</td>\n",
        "<td>Books</td>\n",
        "</tr>\n",
        "</tbody>\n",
        "</table>\n",
        "</body>\n",
        "</html>\n",
        "\"\"\""
      ]
    },
    {
      "cell_type": "code",
      "source": [
        "from bs4 import BeautifulSoup\n",
        "soup = BeautifulSoup(markup = data, parser = 'html.parser')"
      ],
      "metadata": {
        "id": "VNPE6K8rwoyh"
      },
      "execution_count": 2,
      "outputs": []
    },
    {
      "cell_type": "code",
      "source": [
        "soup"
      ],
      "metadata": {
        "colab": {
          "base_uri": "https://localhost:8080/"
        },
        "id": "sQPdw-4NyTrf",
        "outputId": "619b38db-c491-4a2f-f33f-2756344a1891"
      },
      "execution_count": 3,
      "outputs": [
        {
          "output_type": "execute_result",
          "data": {
            "text/plain": [
              "<!DOCTYPE html>\n",
              "<html>\n",
              "<head>\n",
              "<title>Product Data</title>\n",
              "</head>\n",
              "<body>\n",
              "<table>\n",
              "<thead>\n",
              "<tr>\n",
              "<th>Product Name</th>\n",
              "<th>Price</th>\n",
              "<th>Category</th>\n",
              "</tr>\n",
              "</thead>\n",
              "<tbody>\n",
              "<tr>\n",
              "<td>Laptop</td>\n",
              "<td>999</td>\n",
              "<td>Electronics</td>\n",
              "</tr>\n",
              "<tr>\n",
              "<td>Smartwatch</td>\n",
              "<td>250</td>\n",
              "<td>Wearables</td>\n",
              "</tr>\n",
              "<tr>\n",
              "<td>Novel</td>\n",
              "<td>15.99</td>\n",
              "<td>Books</td>\n",
              "</tr>\n",
              "</tbody>\n",
              "</table>\n",
              "</body>\n",
              "</html>"
            ]
          },
          "metadata": {},
          "execution_count": 3
        }
      ]
    },
    {
      "cell_type": "code",
      "source": [
        "products = soup.find_all('tr')"
      ],
      "metadata": {
        "id": "rKs69tQDypRY"
      },
      "execution_count": 12,
      "outputs": []
    },
    {
      "cell_type": "code",
      "source": [
        "products"
      ],
      "metadata": {
        "colab": {
          "base_uri": "https://localhost:8080/"
        },
        "id": "9QFts_eOzNjO",
        "outputId": "9fc4c0f5-e8fd-4d2c-d847-25aed2f09357"
      },
      "execution_count": 13,
      "outputs": [
        {
          "output_type": "execute_result",
          "data": {
            "text/plain": [
              "[<tr>\n",
              " <th>Product Name</th>\n",
              " <th>Price</th>\n",
              " <th>Category</th>\n",
              " </tr>,\n",
              " <tr>\n",
              " <td>Laptop</td>\n",
              " <td>999</td>\n",
              " <td>Electronics</td>\n",
              " </tr>,\n",
              " <tr>\n",
              " <td>Smartwatch</td>\n",
              " <td>250</td>\n",
              " <td>Wearables</td>\n",
              " </tr>,\n",
              " <tr>\n",
              " <td>Novel</td>\n",
              " <td>15.99</td>\n",
              " <td>Books</td>\n",
              " </tr>]"
            ]
          },
          "metadata": {},
          "execution_count": 13
        }
      ]
    },
    {
      "cell_type": "code",
      "source": [
        "len(products)"
      ],
      "metadata": {
        "colab": {
          "base_uri": "https://localhost:8080/"
        },
        "id": "vpdtNVuNzRyQ",
        "outputId": "2564c483-c21c-4110-9724-934fa3fc967c"
      },
      "execution_count": 6,
      "outputs": [
        {
          "output_type": "execute_result",
          "data": {
            "text/plain": [
              "4"
            ]
          },
          "metadata": {},
          "execution_count": 6
        }
      ]
    },
    {
      "cell_type": "code",
      "source": [
        "len(products[0])"
      ],
      "metadata": {
        "colab": {
          "base_uri": "https://localhost:8080/"
        },
        "id": "lXBPr9nPDky9",
        "outputId": "84dff6fd-ca3e-4c23-ff7c-bc96accbdb97"
      },
      "execution_count": 7,
      "outputs": [
        {
          "output_type": "execute_result",
          "data": {
            "text/plain": [
              "7"
            ]
          },
          "metadata": {},
          "execution_count": 7
        }
      ]
    },
    {
      "cell_type": "code",
      "source": [
        "result = []\n",
        "\n",
        "for i in products:\n",
        "  if i.find('th'):\n",
        "    prod1 = i.find_all('th')\n",
        "    temp = []\n",
        "    for j in prod1:\n",
        "      string = j.getText()\n",
        "      temp.append(string)\n",
        "    result.append(temp)\n",
        "  else:\n",
        "    prod1 = i.find_all('td')\n",
        "    temp = []\n",
        "    for j in prod1:\n",
        "      string = j.getText()\n",
        "      temp.append(string)\n",
        "    result.append(temp)"
      ],
      "metadata": {
        "id": "KnhrWiJu0OTH"
      },
      "execution_count": 21,
      "outputs": []
    },
    {
      "cell_type": "code",
      "source": [
        "result"
      ],
      "metadata": {
        "colab": {
          "base_uri": "https://localhost:8080/"
        },
        "id": "EpFQj52c4uk6",
        "outputId": "23b06bf1-55a6-465d-b06f-85b043dca11b"
      },
      "execution_count": 22,
      "outputs": [
        {
          "output_type": "execute_result",
          "data": {
            "text/plain": [
              "[['Product Name', 'Price', 'Category'],\n",
              " ['Laptop', '999', 'Electronics'],\n",
              " ['Smartwatch', '250', 'Wearables'],\n",
              " ['Novel', '15.99', 'Books']]"
            ]
          },
          "metadata": {},
          "execution_count": 22
        }
      ]
    }
  ]
}