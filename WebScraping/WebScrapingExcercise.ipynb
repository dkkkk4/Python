{
  "nbformat": 4,
  "nbformat_minor": 0,
  "metadata": {
    "colab": {
      "provenance": [],
      "authorship_tag": "ABX9TyO3RNIcSgIf/TFr6mOKlsZY",
      "include_colab_link": true
    },
    "kernelspec": {
      "name": "python3",
      "display_name": "Python 3"
    },
    "language_info": {
      "name": "python"
    }
  },
  "cells": [
    {
      "cell_type": "markdown",
      "metadata": {
        "id": "view-in-github",
        "colab_type": "text"
      },
      "source": [
        "<a href=\"https://colab.research.google.com/github/dkkkk4/Python/blob/main/WebScraping/WebScrapingExcercise.ipynb\" target=\"_parent\"><img src=\"https://colab.research.google.com/assets/colab-badge.svg\" alt=\"Open In Colab\"/></a>"
      ]
    },
    {
      "cell_type": "markdown",
      "source": [
        "\n",
        "## Q.1 Using Beautiful Soup in Python, which one-liner code will find the first h2 tag in the following HTML structure?**\n",
        "---\n",
        "\n",
        "\n"
      ],
      "metadata": {
        "id": "XlgNJM6OULoh"
      }
    },
    {
      "cell_type": "code",
      "execution_count": 7,
      "metadata": {
        "id": "G1egW888UDTd"
      },
      "outputs": [],
      "source": [
        "Data = \"\"\"<!DOCTYPE html>\n",
        "<html>\n",
        "<head>\n",
        "    <title>My Web Page</title>\n",
        "</head>\n",
        "<body>\n",
        "    <h1>Welcome to My Web Page</h1>\n",
        "    <div class=\"header\">\n",
        "        <h2>News</h2>\n",
        "        <p>Latest news will be displayed here</p>\n",
        "    </div>\n",
        "    <div class=\"content\">\n",
        "        <h2>Hello</h2>\n",
        "        <p>This is some content on my webpage.</p>\n",
        "        <ul>\n",
        "            <li>Point 1</li>\n",
        "            <li>Point 2</li>\n",
        "            <li>Point 3</li>\n",
        "        </ul>\n",
        "    </div>\n",
        "    <div class=\"footer\">\n",
        "        <p>Contact us at contact@example.com</p>\n",
        "    </div>\n",
        "</body>\n",
        "</html>\"\"\""
      ]
    },
    {
      "cell_type": "markdown",
      "source": [
        "Choose the correct answer from below:\n",
        "\n",
        "\n",
        "1. soup.find('h2')\n",
        "2. soup.find_all('h2')[0]\n",
        "3. soup.body.h2\n",
        "4. All of the above\n",
        "\n",
        "\n"
      ],
      "metadata": {
        "id": "2KmNhi-KVn3B"
      }
    },
    {
      "cell_type": "code",
      "source": [
        "from bs4 import BeautifulSoup\n",
        "soup = BeautifulSoup(markup = Data, parser = 'html.parser')\n",
        "print(soup.find('h2'), soup.find_all('h2')[0], soup.body.h2, sep='\\n')"
      ],
      "metadata": {
        "colab": {
          "base_uri": "https://localhost:8080/"
        },
        "id": "1tXLha53V9XG",
        "outputId": "cb74fe23-fdb6-4f55-e76a-18c382564276"
      },
      "execution_count": 14,
      "outputs": [
        {
          "output_type": "stream",
          "name": "stdout",
          "text": [
            "<h2>News</h2>\n",
            "<h2>News</h2>\n",
            "<h2>News</h2>\n"
          ]
        }
      ]
    },
    {
      "cell_type": "markdown",
      "source": [
        "## Q.2 What is the output of the given below Python code?"
      ],
      "metadata": {
        "id": "YMW4o-ycZpug"
      }
    },
    {
      "cell_type": "code",
      "source": [
        "from bs4 import BeautifulSoup\n",
        "\n",
        "html_doc = \"\"\"\n",
        "<!DOCTYPE html>\n",
        "<html>\n",
        "<head>\n",
        "    <title>Sample Page</title>\n",
        "</head>\n",
        "<body>\n",
        "    <div class=\"info\">\n",
        "        <p>First Paragraph</p>\n",
        "        <p class=\"highlight\">Second Paragraph</p>\n",
        "        <p>Third Paragraph</p>\n",
        "    </div>\n",
        "</body>\n",
        "</html>\n",
        "\"\"\"\n",
        "\n",
        "soup = BeautifulSoup(html_doc, 'html.parser')\n",
        "result = soup.find_all('p', class_='highlight')\n",
        "print(result)"
      ],
      "metadata": {
        "colab": {
          "base_uri": "https://localhost:8080/"
        },
        "id": "vDp5BXXuYx8D",
        "outputId": "ea7cee2f-24b9-47bb-e2fa-5365c0964f90"
      },
      "execution_count": 15,
      "outputs": [
        {
          "output_type": "stream",
          "name": "stdout",
          "text": [
            "[<p class=\"highlight\">Second Paragraph</p>]\n"
          ]
        }
      ]
    },
    {
      "cell_type": "markdown",
      "source": [
        "## Q.3 Which of the following statements best describes the importance of checking a website's robots.txt file before performing web scraping?"
      ],
      "metadata": {
        "id": "ug9rnlxCaHv2"
      }
    },
    {
      "cell_type": "markdown",
      "source": [
        "Choose the correct answer from below:\n",
        "\n",
        "\n",
        "1.   The `robots.txt` file contains the necessary passwords and credentials required for web scraping.\n",
        "2.  It is important to check the `robots.txt` file because it lists the data types that can be legally scraped from the website.\n",
        "3. ✔The `robots.txt` file indicates which parts of the website the owner prefers not to be accessed by web crawlers, making it crucial for ethical web scraping.\n",
        "4.  Checking the `robots.txt` file is not necessary for web scraping as it only pertains to search engine optimization.\n"
      ],
      "metadata": {
        "id": "_qk2ejqWaQH-"
      }
    },
    {
      "cell_type": "markdown",
      "source": [
        "## Q4. find all tags using Beautiful Soup in Python, which one-liner code will find all the \"<p\" tags within the \"<div\" element having the ID main-content in the above HTML structure?"
      ],
      "metadata": {
        "id": "rDf0sOsIbHAk"
      }
    },
    {
      "cell_type": "code",
      "source": [
        "data2 = \"\"\"<!DOCTYPE html>\n",
        "<html>\n",
        "<head>\n",
        "    <title>News Portal</title>\n",
        "</head>\n",
        "<body>\n",
        "    <div id=\"main-content\">\n",
        "        <p>Paragraph 1 in main content.</p>\n",
        "        <p>Paragraph 2 in main content.</p>\n",
        "    </div>\n",
        "    <div id=\"sidebar\">\n",
        "        <p>Paragraph in sidebar.</p>\n",
        "    </div>\n",
        "    <div>\n",
        "        <p>Paragraph in a div without an ID.</p>\n",
        "    </div>\n",
        "</body>\n",
        "</html>\"\"\""
      ],
      "metadata": {
        "id": "N7z_LPt9brrm"
      },
      "execution_count": 16,
      "outputs": []
    },
    {
      "cell_type": "markdown",
      "source": [
        "Choose the correct answer from below:\n",
        "1. soup.find_all('p', id='main-content')\n",
        "2. soup.find('div', id='main-content').find_all('p')\n",
        "3. soup.find_all('p', parent='main-content')\n",
        "4. None of the above"
      ],
      "metadata": {
        "id": "ht0dS7PHbm1x"
      }
    },
    {
      "cell_type": "code",
      "source": [
        "soup = BeautifulSoup(data2, 'html.parser')\n",
        "result = soup.find('div', id='main-content').find_all('p')\n",
        "print(result)"
      ],
      "metadata": {
        "colab": {
          "base_uri": "https://localhost:8080/"
        },
        "id": "krGg7dBRalZk",
        "outputId": "dd6fa74d-8048-470a-d125-96ba59ed3164"
      },
      "execution_count": 19,
      "outputs": [
        {
          "output_type": "stream",
          "name": "stdout",
          "text": [
            "[<p>Paragraph 1 in main content.</p>, <p>Paragraph 2 in main content.</p>]\n"
          ]
        }
      ]
    },
    {
      "cell_type": "markdown",
      "source": [
        "## Q5. scrape the output.What is the output of the given below Python code?"
      ],
      "metadata": {
        "id": "Z5PoSBr_cqGo"
      }
    },
    {
      "cell_type": "code",
      "source": [
        "from bs4 import BeautifulSoup\n",
        "\n",
        "html_doc = \"\"\"\n",
        "<!DOCTYPE html>\n",
        "<html>\n",
        "<head>\n",
        "    <title>Book Store</title>\n",
        "</head>\n",
        "<body>\n",
        "    <div id=\"bestsellers\">\n",
        "        <h2>Best Selling Books</h2>\n",
        "        <ul>\n",
        "            <li><a href=\"/book1\">The Great Gatsby</a></li>\n",
        "            <li><a href=\"/book2\">To Kill a Mockingbird</a></li>\n",
        "            <li><a href=\"/book3\">1984</a></li>\n",
        "        </ul>\n",
        "    </div>\n",
        "    <div id=\"new-releases\">\n",
        "        <h2>New Releases</h2>\n",
        "        <ul>\n",
        "            <li><a href=\"/book4\">The Testaments</a></li>\n",
        "            <li><a href=\"/book5\">Normal People</a></li>\n",
        "        </ul>\n",
        "    </div>\n",
        "</body>\n",
        "</html>\n",
        "\"\"\"\n",
        "\n",
        "soup = BeautifulSoup(html_doc, 'html.parser')\n",
        "titles = [a.get_text() for a in soup.find_all('a')]\n",
        "print(titles)"
      ],
      "metadata": {
        "colab": {
          "base_uri": "https://localhost:8080/"
        },
        "id": "Iier3Nwjczg0",
        "outputId": "39b1dc21-7170-4172-8086-5576284ba464"
      },
      "execution_count": 20,
      "outputs": [
        {
          "output_type": "stream",
          "name": "stdout",
          "text": [
            "['The Great Gatsby', 'To Kill a Mockingbird', '1984', 'The Testaments', 'Normal People']\n"
          ]
        }
      ]
    }
  ]
}