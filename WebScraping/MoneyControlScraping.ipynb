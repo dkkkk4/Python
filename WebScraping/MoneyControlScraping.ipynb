{
  "nbformat": 4,
  "nbformat_minor": 0,
  "metadata": {
    "colab": {
      "provenance": [],
      "authorship_tag": "ABX9TyNDk59GAGP8d5ORdqoxWfCp",
      "include_colab_link": true
    },
    "kernelspec": {
      "name": "python3",
      "display_name": "Python 3"
    },
    "language_info": {
      "name": "python"
    }
  },
  "cells": [
    {
      "cell_type": "markdown",
      "metadata": {
        "id": "view-in-github",
        "colab_type": "text"
      },
      "source": [
        "<a href=\"https://colab.research.google.com/github/dkkkk4/Python/blob/main/WebScraping/MoneyControlScraping.ipynb\" target=\"_parent\"><img src=\"https://colab.research.google.com/assets/colab-badge.svg\" alt=\"Open In Colab\"/></a>"
      ]
    },
    {
      "cell_type": "code",
      "execution_count": 19,
      "metadata": {
        "colab": {
          "base_uri": "https://localhost:8080/"
        },
        "id": "9uYB5FACQPvW",
        "outputId": "41df9660-8bcb-49d8-eb26-8d2f880eb908"
      },
      "outputs": [
        {
          "name": "stdout",
          "output_type": "stream",
          "text": [
            "Enter the number of pages you want to scrap :- 1\n"
          ]
        }
      ],
      "source": [
        "import requests\n",
        "from bs4 import BeautifulSoup\n",
        "from datetime import datetime, timedelta\n",
        "\n",
        "def moneycontrol_scraper(pages):\n",
        "    base_url = \"https://www.moneycontrol.com/news/tags/companies.html\"\n",
        "    headlines = []\n",
        "    i = 1\n",
        "    url = \"\"\n",
        "    last_date = \"\"\n",
        "\n",
        "    while i<=pages:\n",
        "        if i==1:\n",
        "          url = base_url\n",
        "        else:\n",
        "          url = f\"{base_url}/page-{i}/\"\n",
        "\n",
        "        response = requests.get(url)\n",
        "\n",
        "        if response.status_code == 200:\n",
        "            soup = BeautifulSoup(response.content, 'html.parser')\n",
        "            articles = soup.find_all('li', class_= 'clearfix')\n",
        "            for j in articles:\n",
        "              title = j.findChild(name = 'a').get('title')\n",
        "              headlines.append(title)\n",
        "            if i==pages:\n",
        "              last_date = articles[len(articles)-1].find('span').getText()\n",
        "        else:\n",
        "            print(\"Failed to retrieve data\")\n",
        "        i = i+1\n",
        "\n",
        "\n",
        "    return headlines, last_date\n",
        "\n",
        "#One page has almost one week of news and almost 25 articles, so enter the number of pages you want to scrap\n",
        "pages = int(input(\"Enter the number of pages you want to scrap :- \"))\n",
        "headlines , Articles_Scarped_Till_Date = moneycontrol_scraper(pages)"
      ]
    },
    {
      "cell_type": "code",
      "source": [
        "headlines"
      ],
      "metadata": {
        "colab": {
          "base_uri": "https://localhost:8080/"
        },
        "id": "uxUd6cVOX7o-",
        "outputId": "74e15a0d-51ec-43dd-e6cb-e122cdd42a2a"
      },
      "execution_count": 20,
      "outputs": [
        {
          "output_type": "execute_result",
          "data": {
            "text/plain": [
              "['Adani Green Energy operanalizes 1,000 MW solar energy at Khavda RE Park, Gujarat',\n",
              " 'Green Infra Wind Energy bags 440 MW wind-solar hybrid project',\n",
              " 'Ujjivan SFB: Why the recent underperformance merits attention',\n",
              " 'IndianOil set to join high table of F1 fuel producers',\n",
              " 'BlackRock appoints Maheshwar Nataraj to lead private credit in India',\n",
              " 'HCLTech ties up with ServiceNow for Gen-AI solutions',\n",
              " 'FMCG sector to see subdued growth till September quarter of 2024, says Kantar report',\n",
              " 'Suzlon bags 72.45 MW wind power project from Juniper Green Energy',\n",
              " 'Transport Corporation of India: A long-term buy despite slowdown blues',\n",
              " 'Paramount in talks to sell India TV stake to Mukesh Ambani’s Reliance: Bloomberg',\n",
              " 'Siemens has high hopes for India as economy booms: Matthias Rebellius',\n",
              " 'Adani group considers offering $1.2 billion more bonds',\n",
              " 'Google, Walmart gain India fintech users after paytm curbs',\n",
              " 'NPCI joins hands with IISc for joint research on blockchain, AI tech',\n",
              " 'M&E industry to cross Rs 3 lakh crore in 2026: Report',\n",
              " 'Expect India to be third largest market among 118 countries: Mercedes-Benz',\n",
              " 'Tata Power Solar Systems, Union Bank renew partnership to offer financing solutions',\n",
              " 'Tata Sons may be valued at up to $96 billion in IPO: Spark',\n",
              " 'A $50 billion India pension fund may turn to corporate bonds',\n",
              " 'Big businesses hit with management idea drought',\n",
              " 'Adani dollar bonds see robust demand; signals comeback to global market',\n",
              " 'B2B platform udaan sees sale of 2.25 billion products in 2023; 900 sellers achieved sales worth Rs 1 crore each',\n",
              " 'Blackrock sees India, Indonesia as promising for investment opportunities',\n",
              " 'Did Rameshwaram Cafe blast aim to undermine Brand Bengaluru?',\n",
              " 'Nokia, Sterlite Technologies collaborate to enhance digital solutions for govt, enterprises']"
            ]
          },
          "metadata": {},
          "execution_count": 20
        }
      ]
    },
    {
      "cell_type": "code",
      "source": [
        "Articles_Scarped_Till_Date"
      ],
      "metadata": {
        "colab": {
          "base_uri": "https://localhost:8080/",
          "height": 35
        },
        "id": "MflXD5iHXW9Q",
        "outputId": "8faa8e3b-0c38-4d9a-cbf6-b29b726334d9"
      },
      "execution_count": 21,
      "outputs": [
        {
          "output_type": "execute_result",
          "data": {
            "text/plain": [
              "'March 04, 2024 02:14 PM IST'"
            ],
            "application/vnd.google.colaboratory.intrinsic+json": {
              "type": "string"
            }
          },
          "metadata": {},
          "execution_count": 21
        }
      ]
    }
  ]
}