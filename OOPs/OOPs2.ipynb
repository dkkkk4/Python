{
  "nbformat": 4,
  "nbformat_minor": 0,
  "metadata": {
    "colab": {
      "provenance": [],
      "authorship_tag": "ABX9TyNxLCetil4YGJ+xjFJ7LTRu",
      "include_colab_link": true
    },
    "kernelspec": {
      "name": "python3",
      "display_name": "Python 3"
    },
    "language_info": {
      "name": "python"
    }
  },
  "cells": [
    {
      "cell_type": "markdown",
      "metadata": {
        "id": "view-in-github",
        "colab_type": "text"
      },
      "source": [
        "<a href=\"https://colab.research.google.com/github/dkkkk4/Python/blob/main/OOPs/OOPs2.ipynb\" target=\"_parent\"><img src=\"https://colab.research.google.com/assets/colab-badge.svg\" alt=\"Open In Colab\"/></a>"
      ]
    },
    {
      "cell_type": "code",
      "execution_count": 2,
      "metadata": {
        "id": "TuZvOUT1rflw"
      },
      "outputs": [],
      "source": [
        "class Account:\n",
        "  counter = 0                       #class / shared / global\n",
        "  def __init__(self,openingBal=0):\n",
        "    Account.counter += 1\n",
        "    self.id = Account.counter\n",
        "    self.bal = openingBal           #instance variable"
      ]
    },
    {
      "cell_type": "code",
      "source": [
        "a1 = Account()\n",
        "a2 = Account(100)"
      ],
      "metadata": {
        "id": "Y9vabj-2AQ_u"
      },
      "execution_count": 3,
      "outputs": []
    },
    {
      "cell_type": "code",
      "source": [
        "print(a1.id, a1.bal)\n",
        "print(a2.id, a2.bal)"
      ],
      "metadata": {
        "colab": {
          "base_uri": "https://localhost:8080/"
        },
        "id": "nS6C-KT0AW2t",
        "outputId": "5ef4e848-9aa0-47f7-f651-6b790b3aa594"
      },
      "execution_count": 4,
      "outputs": [
        {
          "output_type": "stream",
          "name": "stdout",
          "text": [
            "1 0\n",
            "2 100\n"
          ]
        }
      ]
    },
    {
      "cell_type": "code",
      "source": [
        " print(a1)"
      ],
      "metadata": {
        "colab": {
          "base_uri": "https://localhost:8080/"
        },
        "id": "UW_pb5HoulEw",
        "outputId": "2bc140af-2139-4499-8347-ad7f7285b234"
      },
      "execution_count": 6,
      "outputs": [
        {
          "output_type": "stream",
          "name": "stdout",
          "text": [
            "<__main__.Account object at 0x7a97735a0f70>\n"
          ]
        }
      ]
    },
    {
      "cell_type": "markdown",
      "source": [
        "### **Format string function**"
      ],
      "metadata": {
        "id": "dPDeWh4JJAiP"
      }
    },
    {
      "cell_type": "markdown",
      "source": [
        "usual way to write string"
      ],
      "metadata": {
        "id": "dKgbXjCRKvAN"
      }
    },
    {
      "cell_type": "code",
      "source": [
        "name = 'saurabh'\n",
        "age = 18\n",
        "print('my name is '+name+' and i am '+str(age)+' year old')"
      ],
      "metadata": {
        "colab": {
          "base_uri": "https://localhost:8080/"
        },
        "id": "bt7nAmfxupTy",
        "outputId": "27708f2b-238e-4ec6-a280-3c52ffbccdc2"
      },
      "execution_count": 6,
      "outputs": [
        {
          "output_type": "stream",
          "name": "stdout",
          "text": [
            "my name is saurabh and i am 18 year old\n"
          ]
        }
      ]
    },
    {
      "cell_type": "code",
      "source": [
        "name = 'saurabh'\n",
        "age = 18\n",
        "print(f'my name is {name} and i am {age} year old')   #f-strings in python"
      ],
      "metadata": {
        "colab": {
          "base_uri": "https://localhost:8080/"
        },
        "id": "edsApS9KLXKY",
        "outputId": "8e70de15-a627-4f9c-9b2a-575357145610"
      },
      "execution_count": 4,
      "outputs": [
        {
          "output_type": "stream",
          "name": "stdout",
          "text": [
            "my name is saurabh and i am 18 year old\n"
          ]
        }
      ]
    },
    {
      "cell_type": "code",
      "source": [
        "class Account:\n",
        "  counter = 0 #class / shared - global\n",
        "  def __init__(self,openingBal=0):\n",
        "    Account.counter += 1\n",
        "    self.id = Account.counter\n",
        "    self.bal = openingBal\n",
        "  def __str__(self):\n",
        "      return f'Account {self.id} has rs {self.bal}'\n",
        "\n",
        "a1= Account()\n",
        "a2 = Account(100)\n"
      ],
      "metadata": {
        "id": "Vp9ssrWANZXV"
      },
      "execution_count": 7,
      "outputs": []
    },
    {
      "cell_type": "code",
      "source": [
        "print(a1)\n",
        "print(a2)"
      ],
      "metadata": {
        "colab": {
          "base_uri": "https://localhost:8080/"
        },
        "id": "I0Vi_0LROTiM",
        "outputId": "76f55b4f-137a-4ffb-9f65-57042f9083e6"
      },
      "execution_count": 10,
      "outputs": [
        {
          "output_type": "stream",
          "name": "stdout",
          "text": [
            "Account 1 has rs 0\n",
            "Account 2 has rs 100\n"
          ]
        }
      ]
    },
    {
      "cell_type": "code",
      "source": [
        "class Account:\n",
        "  counter = 0 #class / shared - global\n",
        "  def __init__(self,openingBal=0):\n",
        "    Account.counter += 1\n",
        "    self.id = Account.counter\n",
        "    self.bal = openingBal\n",
        "  def deposit(self,amount):\n",
        "    self.bal += amount\n",
        "  def withdraw(self,amount):\n",
        "    self.bal -= amount\n",
        "  def __str__(self):\n",
        "      return f'Account {self.id} has rs {self.bal}'"
      ],
      "metadata": {
        "id": "JfieJv1nOaqx"
      },
      "execution_count": 11,
      "outputs": []
    },
    {
      "cell_type": "code",
      "source": [
        "a1 = Account(100)\n",
        "print(a1)\n",
        "a1.deposit(500)\n",
        "print(a1)\n"
      ],
      "metadata": {
        "colab": {
          "base_uri": "https://localhost:8080/"
        },
        "id": "RLqDXXduPH2i",
        "outputId": "4e2c18be-7931-4c55-d35a-d12e4281bc4d"
      },
      "execution_count": 12,
      "outputs": [
        {
          "output_type": "stream",
          "name": "stdout",
          "text": [
            "Account 1 has rs 100\n",
            "Account 1 has rs 600\n"
          ]
        }
      ]
    },
    {
      "cell_type": "code",
      "source": [
        "class Account:\n",
        "  counter = 0 #class / shared - global\n",
        "  def __init__(self,openingBal=0):\n",
        "    Account.counter += 1\n",
        "    self.id = Account.counter\n",
        "    self.bal = openingBal\n",
        "    self.passbook = [] #mutable\n",
        "  def deposit(self,amount):\n",
        "    self.bal += amount\n",
        "    self.passbook.append(('credited',amount))\n",
        "  def withdraw(self,amount):\n",
        "    self.bal -= amount\n",
        "    self.passbook.append(('dedited',amount))\n",
        "  def __str__(self):\n",
        "      return f'Account {self.id} has rs {self.bal}'"
      ],
      "metadata": {
        "id": "YrBDF06GPUcu"
      },
      "execution_count": 1,
      "outputs": []
    },
    {
      "cell_type": "code",
      "source": [
        "a1 = Account(100)\n",
        "print(a1)\n",
        "\n",
        "a1.deposit(200) #transactions\n",
        "a1.deposit(500)\n",
        "\n",
        "print(a1)\n",
        "\n",
        "print(a1.passbook)\n"
      ],
      "metadata": {
        "colab": {
          "base_uri": "https://localhost:8080/"
        },
        "id": "kGM7NJl75m-R",
        "outputId": "2b879bb5-c7dd-4873-c0de-84a3f3e0e5b7"
      },
      "execution_count": 2,
      "outputs": [
        {
          "output_type": "stream",
          "name": "stdout",
          "text": [
            "Account 1 has rs 100\n",
            "Account 1 has rs 800\n",
            "[('credited', 200), ('credited', 500)]\n"
          ]
        }
      ]
    },
    {
      "cell_type": "code",
      "source": [
        "a1.withdraw(300)\n",
        "a1.withdraw(500)\n",
        "\n",
        "print(a1)\n",
        "print(a1.passbook)\n",
        "\n",
        "a1.bal\n"
      ],
      "metadata": {
        "colab": {
          "base_uri": "https://localhost:8080/"
        },
        "id": "HXct4U6B58lt",
        "outputId": "4e91f2e5-14dc-41fd-f708-55dff13c35ee"
      },
      "execution_count": 3,
      "outputs": [
        {
          "output_type": "stream",
          "name": "stdout",
          "text": [
            "Account 1 has rs 0\n",
            "[('credited', 200), ('credited', 500), ('dedited', 300), ('dedited', 500)]\n"
          ]
        },
        {
          "output_type": "execute_result",
          "data": {
            "text/plain": [
              "0"
            ]
          },
          "metadata": {},
          "execution_count": 3
        }
      ]
    },
    {
      "cell_type": "markdown",
      "source": [
        "## **Private members in class**"
      ],
      "metadata": {
        "id": "JOBCfsYi8Eod"
      }
    },
    {
      "cell_type": "code",
      "source": [
        "a1.bal = 998978978969679657959757575\n",
        "print(a1) #loophole\n"
      ],
      "metadata": {
        "colab": {
          "base_uri": "https://localhost:8080/"
        },
        "id": "ZOP4if4i8EJD",
        "outputId": "4cf97cc0-a0b9-4438-9130-f2512fc465b3"
      },
      "execution_count": 5,
      "outputs": [
        {
          "output_type": "stream",
          "name": "stdout",
          "text": [
            "Account 1 has rs 998978978969679657959757575\n"
          ]
        }
      ]
    },
    {
      "cell_type": "code",
      "source": [
        " #constraints => bal => private"
      ],
      "metadata": {
        "id": "RfuJ6_G28TXy"
      },
      "execution_count": null,
      "outputs": []
    },
    {
      "cell_type": "code",
      "source": [
        "class Account:\n",
        "  counter = 0 #class / shared - global\n",
        "  def __init__(self,openingBal=0):\n",
        "    Account.counter += 1\n",
        "    self.id = Account.counter\n",
        "    self.__bal = openingBal #private\n",
        "    self.passbook = [] #mutable\n",
        "  def deposit(self,amount):\n",
        "    self.__bal += amount\n",
        "    self.passbook.append(('credited',amount))\n",
        "  def withdraw(self,amount):\n",
        "    self.__bal -= amount\n",
        "    self.passbook.append(('dedited',amount))\n",
        "  def __str__(self):\n",
        "      return f'Account {self.id} has rs {self.__bal}'"
      ],
      "metadata": {
        "id": "eHeRKcs-8Z4Q"
      },
      "execution_count": 7,
      "outputs": []
    },
    {
      "cell_type": "code",
      "source": [
        "a1 = Account()"
      ],
      "metadata": {
        "id": "AXSZoiGD8ndD"
      },
      "execution_count": 8,
      "outputs": []
    },
    {
      "cell_type": "code",
      "source": [
        "a1.bal"
      ],
      "metadata": {
        "colab": {
          "base_uri": "https://localhost:8080/",
          "height": 141
        },
        "id": "fXHODzzk8o2A",
        "outputId": "5345354c-5319-4659-d8d7-c4c2ec5b347f"
      },
      "execution_count": 9,
      "outputs": [
        {
          "output_type": "error",
          "ename": "AttributeError",
          "evalue": "'Account' object has no attribute 'bal'",
          "traceback": [
            "\u001b[0;31m---------------------------------------------------------------------------\u001b[0m",
            "\u001b[0;31mAttributeError\u001b[0m                            Traceback (most recent call last)",
            "\u001b[0;32m<ipython-input-9-a41cff972a8d>\u001b[0m in \u001b[0;36m<cell line: 1>\u001b[0;34m()\u001b[0m\n\u001b[0;32m----> 1\u001b[0;31m \u001b[0ma1\u001b[0m\u001b[0;34m.\u001b[0m\u001b[0mbal\u001b[0m\u001b[0;34m\u001b[0m\u001b[0;34m\u001b[0m\u001b[0m\n\u001b[0m",
            "\u001b[0;31mAttributeError\u001b[0m: 'Account' object has no attribute 'bal'"
          ]
        }
      ]
    },
    {
      "cell_type": "code",
      "source": [
        "a1.__bal = 90789846789467824787\n",
        "print(a1)"
      ],
      "metadata": {
        "colab": {
          "base_uri": "https://localhost:8080/"
        },
        "id": "BinAq7PY8sr7",
        "outputId": "77acf053-bf4c-4638-bef6-536381500444"
      },
      "execution_count": 12,
      "outputs": [
        {
          "output_type": "stream",
          "name": "stdout",
          "text": [
            "Account 1 has rs 0\n"
          ]
        }
      ]
    },
    {
      "cell_type": "code",
      "source": [
        "print(a1.id)\n",
        "a1.id = 999\n",
        "print(a1)"
      ],
      "metadata": {
        "colab": {
          "base_uri": "https://localhost:8080/"
        },
        "id": "7_BymERL84dE",
        "outputId": "f0bf165f-4e0b-484f-e404-181bdd4a687b"
      },
      "execution_count": 17,
      "outputs": [
        {
          "output_type": "stream",
          "name": "stdout",
          "text": [
            "999\n",
            "Account 999 has rs 0\n"
          ]
        }
      ]
    },
    {
      "cell_type": "code",
      "source": [
        "a2 = Account()\n",
        "a2.id"
      ],
      "metadata": {
        "colab": {
          "base_uri": "https://localhost:8080/"
        },
        "id": "lgRgqknp9gSw",
        "outputId": "3e1464a4-7fab-4a66-9516-5f04623dadb7"
      },
      "execution_count": 18,
      "outputs": [
        {
          "output_type": "execute_result",
          "data": {
            "text/plain": [
              "3"
            ]
          },
          "metadata": {},
          "execution_count": 18
        }
      ]
    },
    {
      "cell_type": "code",
      "source": [
        "#quiz\n",
        "# What will be the output of the following Python code?\n",
        "class Test:\n",
        "     def __init__(self):\n",
        "         self.p = 1\n",
        "         self.__q = 1\n",
        "     def get(self):\n",
        "         return self.__q\n",
        "t = Test()\n",
        "t.p = 45\n",
        "print(t.p)"
      ],
      "metadata": {
        "colab": {
          "base_uri": "https://localhost:8080/"
        },
        "id": "o7mFZC9S92Gu",
        "outputId": "87dceaad-4e0a-4d42-e0e5-b8763fe298eb"
      },
      "execution_count": 19,
      "outputs": [
        {
          "output_type": "stream",
          "name": "stdout",
          "text": [
            "45\n"
          ]
        }
      ]
    },
    {
      "cell_type": "code",
      "source": [
        "# quiz\n",
        "# What will be the output of the following Python code?\n",
        "class Test:\n",
        "     def __init__(self):\n",
        "         self.p = 1\n",
        "         self.__q = 1\n",
        "     def get(self):\n",
        "         return self.__q\n",
        "t = Test()"
      ],
      "metadata": {
        "id": "qQPYScsS94hz"
      },
      "execution_count": 20,
      "outputs": []
    },
    {
      "cell_type": "code",
      "source": [
        "t.p"
      ],
      "metadata": {
        "colab": {
          "base_uri": "https://localhost:8080/"
        },
        "id": "2OvE4U92-WQy",
        "outputId": "632516b6-174e-42ad-a1cf-772ac6f692ed"
      },
      "execution_count": 21,
      "outputs": [
        {
          "output_type": "execute_result",
          "data": {
            "text/plain": [
              "1"
            ]
          },
          "metadata": {},
          "execution_count": 21
        }
      ]
    },
    {
      "cell_type": "code",
      "source": [
        "t.__q"
      ],
      "metadata": {
        "colab": {
          "base_uri": "https://localhost:8080/",
          "height": 141
        },
        "id": "_LyMLHa9-afd",
        "outputId": "4f9d6c38-3188-4a95-bdae-eb7700d13e95"
      },
      "execution_count": 22,
      "outputs": [
        {
          "output_type": "error",
          "ename": "AttributeError",
          "evalue": "'Test' object has no attribute '__q'",
          "traceback": [
            "\u001b[0;31m---------------------------------------------------------------------------\u001b[0m",
            "\u001b[0;31mAttributeError\u001b[0m                            Traceback (most recent call last)",
            "\u001b[0;32m<ipython-input-22-1f06c51afc41>\u001b[0m in \u001b[0;36m<cell line: 1>\u001b[0;34m()\u001b[0m\n\u001b[0;32m----> 1\u001b[0;31m \u001b[0mt\u001b[0m\u001b[0;34m.\u001b[0m\u001b[0m__q\u001b[0m\u001b[0;34m\u001b[0m\u001b[0;34m\u001b[0m\u001b[0m\n\u001b[0m",
            "\u001b[0;31mAttributeError\u001b[0m: 'Test' object has no attribute '__q'"
          ]
        }
      ]
    },
    {
      "cell_type": "code",
      "source": [
        "a1 = Account()\n",
        "a1.__bal # __bal => _Account__bal #data/name mangline"
      ],
      "metadata": {
        "colab": {
          "base_uri": "https://localhost:8080/",
          "height": 159
        },
        "id": "InW00I-j-pTv",
        "outputId": "55edd378-13b2-4acc-8919-cdbe2b578401"
      },
      "execution_count": 25,
      "outputs": [
        {
          "output_type": "error",
          "ename": "AttributeError",
          "evalue": "'Account' object has no attribute '__bal'",
          "traceback": [
            "\u001b[0;31m---------------------------------------------------------------------------\u001b[0m",
            "\u001b[0;31mAttributeError\u001b[0m                            Traceback (most recent call last)",
            "\u001b[0;32m<ipython-input-25-3acfd4b6c30e>\u001b[0m in \u001b[0;36m<cell line: 2>\u001b[0;34m()\u001b[0m\n\u001b[1;32m      1\u001b[0m \u001b[0ma1\u001b[0m \u001b[0;34m=\u001b[0m \u001b[0mAccount\u001b[0m\u001b[0;34m(\u001b[0m\u001b[0;34m)\u001b[0m\u001b[0;34m\u001b[0m\u001b[0;34m\u001b[0m\u001b[0m\n\u001b[0;32m----> 2\u001b[0;31m \u001b[0ma1\u001b[0m\u001b[0;34m.\u001b[0m\u001b[0m__bal\u001b[0m \u001b[0;31m# __bal => _Account__bal #data/name mangline\u001b[0m\u001b[0;34m\u001b[0m\u001b[0;34m\u001b[0m\u001b[0m\n\u001b[0m",
            "\u001b[0;31mAttributeError\u001b[0m: 'Account' object has no attribute '__bal'"
          ]
        }
      ]
    },
    {
      "cell_type": "markdown",
      "source": [
        "### **Hack to access private data members**"
      ],
      "metadata": {
        "id": "ImfmlBoQ_GhN"
      }
    },
    {
      "cell_type": "code",
      "source": [
        "a1._Account__bal = 98798798342678932689     #private members can be accessed by obj._ClassName__var"
      ],
      "metadata": {
        "id": "09vnkveA_D4o"
      },
      "execution_count": 26,
      "outputs": []
    },
    {
      "cell_type": "code",
      "source": [
        "print(a1)"
      ],
      "metadata": {
        "colab": {
          "base_uri": "https://localhost:8080/"
        },
        "id": "Is1OSDaG_QkX",
        "outputId": "d73741df-c0a2-40dc-c656-881e3bd560e2"
      },
      "execution_count": 27,
      "outputs": [
        {
          "output_type": "stream",
          "name": "stdout",
          "text": [
            "Account 5 has rs 98798798342678932689\n"
          ]
        }
      ]
    },
    {
      "cell_type": "code",
      "source": [
        "class Account:\n",
        "  counter = 0 #class / shared - global\n",
        "  def __init__(self,openingBal=0):\n",
        "    Account.counter += 1\n",
        "    self.id = Account.counter\n",
        "    self.bal = openingBal\n",
        "    self.passbook = [] #mutable\n",
        "  def deposit(self,amount):\n",
        "    if amount>0:\n",
        "      self.bal += amount\n",
        "      self.passbook.append(('credited',amount))\n",
        "  def withdraw(self,amount):\n",
        "    if amount>0 and amount<self.bal:\n",
        "      self.bal -= amount\n",
        "      self.passbook.append(('dedited',amount))\n",
        "    else:\n",
        "      print(\"insufficient Balance\")\n",
        "  def __str__(self):\n",
        "      return f'Account {self.id} has rs {self.bal}'\n"
      ],
      "metadata": {
        "id": "wPlKF10Q_lVW"
      },
      "execution_count": 31,
      "outputs": []
    },
    {
      "cell_type": "code",
      "source": [
        "a1 = Account()\n",
        "print(a1)\n",
        "a1.withdraw(500)"
      ],
      "metadata": {
        "colab": {
          "base_uri": "https://localhost:8080/"
        },
        "id": "-Q5Fpvgd_t6B",
        "outputId": "4ce750b9-e53b-4231-9610-4bf7196c8b36"
      },
      "execution_count": 32,
      "outputs": [
        {
          "output_type": "stream",
          "name": "stdout",
          "text": [
            "Account 1 has rs 0\n",
            "insufficient Balance\n"
          ]
        }
      ]
    },
    {
      "cell_type": "markdown",
      "source": [
        "## **inheritance**"
      ],
      "metadata": {
        "id": "RGVVxI3MAMPx"
      }
    },
    {
      "cell_type": "code",
      "source": [
        "class Account:\n",
        "  counter = 0 #class / shared - global\n",
        "  def __init__(self,openingBal=0):\n",
        "    Account.counter += 1\n",
        "    self.id = Account.counter\n",
        "    self.bal = openingBal\n",
        "    self.passbook = [] #mutable\n",
        "  def deposit(self,amount):\n",
        "    if amount>0:\n",
        "      self.bal += amount\n",
        "      self.passbook.append(('credited',amount))\n",
        "    #homework in else part\n",
        "  def withdraw(self,amount):\n",
        "    if amount>0 and amount<self.bal:\n",
        "      self.bal -= amount\n",
        "      self.passbook.append(('dedited',amount))\n",
        "  def __str__(self):\n",
        "      return f'Account {self.id} has rs {self.bal}'\n",
        "class SavingsAccount(Account):\n",
        "   #child class of ACCount\n",
        "   pass\n",
        "class CurrentAccount(Account):\n",
        "  pass"
      ],
      "metadata": {
        "id": "u6cr13xsAPrB"
      },
      "execution_count": 33,
      "outputs": []
    },
    {
      "cell_type": "code",
      "source": [
        "sa1 = SavingsAccount(100)\n",
        "print(sa1)\n",
        "sa1.deposit(1000)\n",
        "print(sa1)"
      ],
      "metadata": {
        "colab": {
          "base_uri": "https://localhost:8080/"
        },
        "id": "WMH9LFnVAYj0",
        "outputId": "096d5c09-5e25-4341-8e67-042a2ecb4bd8"
      },
      "execution_count": 34,
      "outputs": [
        {
          "output_type": "stream",
          "name": "stdout",
          "text": [
            "Account 1 has rs 100\n",
            "Account 1 has rs 1100\n"
          ]
        }
      ]
    },
    {
      "cell_type": "code",
      "source": [
        "class Account:\n",
        "  counter = 0 #class / shared - global\n",
        "  def __init__(self,openingBal=0):\n",
        "    Account.counter += 1\n",
        "    self.id = Account.counter\n",
        "    self.bal = openingBal\n",
        "    self.passbook = [] #mutable\n",
        "    self.numTrans = 0\n",
        "    self.maxTrans = 2\n",
        "  def deposit(self,amount):\n",
        "    if amount>0 and self.numTrans<self.maxTrans:\n",
        "      self.bal += amount\n",
        "      self.passbook.append(('credited',amount))\n",
        "      self.numTrans += 1\n",
        "    #homework in else part\n",
        "  def withdraw(self,amount):\n",
        "    if amount>0 and amount<self.bal and self.numTrans<self.maxTrans:\n",
        "      self.bal -= amount\n",
        "      self.passbook.append(('dedited',amount))\n",
        "      self.numTrans += 1\n",
        "  def __str__(self):\n",
        "      return f'Account {self.id} has rs {self.bal}'\n",
        "class SavingsAccount(Account):\n",
        "   #child class of ACCount\n",
        "    pass\n",
        "class CurrentAccount(Account):\n",
        "    pass"
      ],
      "metadata": {
        "id": "AxCRgU3lAkfp"
      },
      "execution_count": 35,
      "outputs": []
    },
    {
      "cell_type": "code",
      "source": [
        "sa1 = SavingsAccount()\n",
        "sa1.passbook"
      ],
      "metadata": {
        "colab": {
          "base_uri": "https://localhost:8080/"
        },
        "id": "CFVECFOFAtMo",
        "outputId": "c463aa0c-a6ad-4c4c-fa64-8acbf015f594"
      },
      "execution_count": 36,
      "outputs": [
        {
          "output_type": "execute_result",
          "data": {
            "text/plain": [
              "[]"
            ]
          },
          "metadata": {},
          "execution_count": 36
        }
      ]
    },
    {
      "cell_type": "code",
      "source": [
        "sa1.deposit(100)\n",
        "sa1.deposit(500)\n",
        "sa1.passbook"
      ],
      "metadata": {
        "colab": {
          "base_uri": "https://localhost:8080/"
        },
        "id": "KYT14L0dA0p5",
        "outputId": "055c2e6a-1cfa-41ef-fd5a-394385d25acf"
      },
      "execution_count": 37,
      "outputs": [
        {
          "output_type": "execute_result",
          "data": {
            "text/plain": [
              "[('credited', 100), ('credited', 500)]"
            ]
          },
          "metadata": {},
          "execution_count": 37
        }
      ]
    },
    {
      "cell_type": "code",
      "source": [
        "sa1.withdraw(300)  #exceeded max transaction limit, hence rejected\n",
        "sa1.passbook"
      ],
      "metadata": {
        "colab": {
          "base_uri": "https://localhost:8080/"
        },
        "id": "paPKiMiHBAhn",
        "outputId": "5c7f5d21-9df3-4929-acc7-9b9b938f4b09"
      },
      "execution_count": 39,
      "outputs": [
        {
          "output_type": "execute_result",
          "data": {
            "text/plain": [
              "[('credited', 100), ('credited', 500)]"
            ]
          },
          "metadata": {},
          "execution_count": 39
        }
      ]
    },
    {
      "cell_type": "code",
      "source": [
        "print(sa1)"
      ],
      "metadata": {
        "colab": {
          "base_uri": "https://localhost:8080/"
        },
        "id": "35thkJcpBY9w",
        "outputId": "ca8c20eb-de46-4b29-9354-32a4453c4028"
      },
      "execution_count": 41,
      "outputs": [
        {
          "output_type": "stream",
          "name": "stdout",
          "text": [
            "Account 1 has rs 600\n"
          ]
        }
      ]
    },
    {
      "cell_type": "code",
      "source": [
        "ca1 = CurrentAccount(100)\n",
        "print(ca1)\n",
        "ca1.deposit(1000)\n",
        "ca1.deposit(1000)\n",
        "ca1.deposit(1000) #rejected\n",
        "ca1.deposit(1000) #rejected\n",
        "ca1.deposit(1000) #rejected\n",
        "ca1.deposit(1000) #rejected\n",
        "print(ca1)\n",
        "ca1.passbook"
      ],
      "metadata": {
        "colab": {
          "base_uri": "https://localhost:8080/"
        },
        "id": "LBksKTKCCqQI",
        "outputId": "357b8a46-b86b-44ce-e55e-2dfda0e71bf3"
      },
      "execution_count": 42,
      "outputs": [
        {
          "output_type": "stream",
          "name": "stdout",
          "text": [
            "Account 2 has rs 100\n",
            "Account 2 has rs 2100\n"
          ]
        },
        {
          "output_type": "execute_result",
          "data": {
            "text/plain": [
              "[('credited', 1000), ('credited', 1000)]"
            ]
          },
          "metadata": {},
          "execution_count": 42
        }
      ]
    },
    {
      "cell_type": "code",
      "source": [
        "class Account:\n",
        "  counter = 0 #class / shared - global\n",
        "  def __init__(self,openingBal=0):\n",
        "    Account.counter += 1\n",
        "    self.id = Account.counter\n",
        "    self.bal = openingBal\n",
        "    self.passbook = [] #mutable\n",
        "    self.numTrans = 0\n",
        "    self.maxTrans = 2\n",
        "  def deposit(self,amount):\n",
        "    if amount>0 and self.numTrans<self.maxTrans:\n",
        "      self.bal += amount\n",
        "      self.passbook.append(('credited',amount))\n",
        "      self.numTrans += 1\n",
        "    #homework in else part\n",
        "  def withdraw(self,amount):\n",
        "    if amount>0 and amount<self.bal and self.numTrans<self.maxTrans:\n",
        "      self.bal -= amount\n",
        "      self.passbook.append(('dedited',amount))\n",
        "      self.numTrans += 1\n",
        "  def __str__(self):\n",
        "      return f'Account {self.id} has rs {self.bal}'\n",
        "\n",
        "class SavingsAccount(Account):\n",
        "   #child class of ACCount\n",
        "   pass\n",
        "class CurrentAccount(Account):\n",
        "  def __init__(self,openingBal=0):\n",
        "    super().__init__(openingBal)   #Calling parent method\n",
        "    self.maxTrans = 1000000000"
      ],
      "metadata": {
        "id": "6Re4UYapDJXG"
      },
      "execution_count": 43,
      "outputs": []
    },
    {
      "cell_type": "code",
      "source": [
        "ca1 = CurrentAccount(100)"
      ],
      "metadata": {
        "id": "qf53W9q3DWcG"
      },
      "execution_count": 44,
      "outputs": []
    },
    {
      "cell_type": "code",
      "source": [
        "ca1.deposit(1000)\n",
        "ca1.deposit(1000)\n",
        "ca1.deposit(1000)\n",
        "ca1.deposit(1000)\n",
        "ca1.deposit(1000)\n",
        "ca1.deposit(1000)\n",
        "print(ca1)"
      ],
      "metadata": {
        "colab": {
          "base_uri": "https://localhost:8080/"
        },
        "id": "DiMy1sgCDj6j",
        "outputId": "d4f28164-b054-4dbf-e35b-73ea2cd8b1c6"
      },
      "execution_count": 45,
      "outputs": [
        {
          "output_type": "stream",
          "name": "stdout",
          "text": [
            "Account 1 has rs 6100\n"
          ]
        }
      ]
    }
  ]
}