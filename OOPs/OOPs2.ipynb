{
  "nbformat": 4,
  "nbformat_minor": 0,
  "metadata": {
    "colab": {
      "provenance": [],
      "authorship_tag": "ABX9TyOAx61lj2WQTu/zCh7g8WDZ",
      "include_colab_link": true
    },
    "kernelspec": {
      "name": "python3",
      "display_name": "Python 3"
    },
    "language_info": {
      "name": "python"
    }
  },
  "cells": [
    {
      "cell_type": "markdown",
      "metadata": {
        "id": "view-in-github",
        "colab_type": "text"
      },
      "source": [
        "<a href=\"https://colab.research.google.com/github/dkkkk4/Python/blob/main/OOPs/OOPs2.ipynb\" target=\"_parent\"><img src=\"https://colab.research.google.com/assets/colab-badge.svg\" alt=\"Open In Colab\"/></a>"
      ]
    },
    {
      "cell_type": "code",
      "execution_count": 1,
      "metadata": {
        "id": "TuZvOUT1rflw"
      },
      "outputs": [],
      "source": [
        "class Account:\n",
        "  counter = 0                       #class / shared / global\n",
        "  def __init__(self,openingBal=0):\n",
        "    Account.counter += 1\n",
        "    self.id = Account.counter\n",
        "    self.bal = openingBal           #instance variable"
      ]
    },
    {
      "cell_type": "code",
      "source": [
        "a1 = Account()\n",
        "a2 = Account(100)"
      ],
      "metadata": {
        "id": "Y9vabj-2AQ_u"
      },
      "execution_count": 2,
      "outputs": []
    },
    {
      "cell_type": "code",
      "source": [
        "print(a1.id, a1.bal, \"\\n\", a2.id, a2.bal)"
      ],
      "metadata": {
        "colab": {
          "base_uri": "https://localhost:8080/"
        },
        "id": "nS6C-KT0AW2t",
        "outputId": "5a455ac6-110e-41e4-8623-3939b56559e8"
      },
      "execution_count": 6,
      "outputs": [
        {
          "output_type": "stream",
          "name": "stdout",
          "text": [
            "1 0 \n",
            " 2 100\n"
          ]
        }
      ]
    }
  ]
}