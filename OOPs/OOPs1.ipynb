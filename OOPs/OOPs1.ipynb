{
  "nbformat": 4,
  "nbformat_minor": 0,
  "metadata": {
    "colab": {
      "provenance": [],
      "authorship_tag": "ABX9TyO485b8ioJsHYGPL8zNpjWR",
      "include_colab_link": true
    },
    "kernelspec": {
      "name": "python3",
      "display_name": "Python 3"
    },
    "language_info": {
      "name": "python"
    }
  },
  "cells": [
    {
      "cell_type": "markdown",
      "metadata": {
        "id": "view-in-github",
        "colab_type": "text"
      },
      "source": [
        "<a href=\"https://colab.research.google.com/github/dkkkk4/Python/blob/main/OOPs/OOPs1.ipynb\" target=\"_parent\"><img src=\"https://colab.research.google.com/assets/colab-badge.svg\" alt=\"Open In Colab\"/></a>"
      ]
    },
    {
      "cell_type": "code",
      "execution_count": null,
      "metadata": {
        "colab": {
          "base_uri": "https://localhost:8080/"
        },
        "id": "f4c4YBbm0W6J",
        "outputId": "64ff6754-aa0a-4c1c-8ac3-21f64e8edab8"
      },
      "outputs": [
        {
          "output_type": "stream",
          "name": "stdout",
          "text": [
            "<class 'float'>\n"
          ]
        }
      ],
      "source": [
        "print(type(52.3))"
      ]
    },
    {
      "cell_type": "markdown",
      "source": [
        "## **Example of class**"
      ],
      "metadata": {
        "id": "kVdTdfRJLNvS"
      }
    },
    {
      "cell_type": "code",
      "source": [
        "class Car:\n",
        "  #properties or attributes\n",
        "  model = 'sedan' #class variables or shared variables\n",
        "  color = 'red'\n",
        "  price = 1000000\n",
        "  #functionality or behaviour\n",
        "  def drive():\n",
        "      print('zoom zoom zoom')\n",
        "  def lock():\n",
        "    print('car is locked')\n",
        "  def unlock():\n",
        "      print('car is unlocked')"
      ],
      "metadata": {
        "id": "Bskfr9fcLKsi"
      },
      "execution_count": null,
      "outputs": []
    },
    {
      "cell_type": "code",
      "source": [
        "Car.model"
      ],
      "metadata": {
        "colab": {
          "base_uri": "https://localhost:8080/",
          "height": 35
        },
        "id": "_7zlU5E5LdLU",
        "outputId": "04ea8c2b-c714-437a-abbe-3626d2dd56b3"
      },
      "execution_count": null,
      "outputs": [
        {
          "output_type": "execute_result",
          "data": {
            "text/plain": [
              "'sedan'"
            ],
            "application/vnd.google.colaboratory.intrinsic+json": {
              "type": "string"
            }
          },
          "metadata": {},
          "execution_count": 10
        }
      ]
    },
    {
      "cell_type": "code",
      "source": [
        "Car.color"
      ],
      "metadata": {
        "colab": {
          "base_uri": "https://localhost:8080/",
          "height": 35
        },
        "id": "p2xaUeGadD_S",
        "outputId": "6121afd1-c8d9-487e-99a9-c3f551e55564"
      },
      "execution_count": null,
      "outputs": [
        {
          "output_type": "execute_result",
          "data": {
            "text/plain": [
              "'red'"
            ],
            "application/vnd.google.colaboratory.intrinsic+json": {
              "type": "string"
            }
          },
          "metadata": {},
          "execution_count": 11
        }
      ]
    },
    {
      "cell_type": "code",
      "source": [
        "c1=Car()"
      ],
      "metadata": {
        "id": "H7XXiI5UdFwd"
      },
      "execution_count": null,
      "outputs": []
    },
    {
      "cell_type": "code",
      "source": [
        "id(c1)\n",
        "#The id() function returns a unique id for the specified object.\n",
        "# All objects in Python has its own unique id.\n",
        "# The id is assigned to the object when it is created.\n",
        "# The id is the object's memory address, and will be different for each time you run the program. (except for some object that has a constant unique id, like integers from -5 to 256)"
      ],
      "metadata": {
        "colab": {
          "base_uri": "https://localhost:8080/"
        },
        "id": "RSi3UC9RdKBJ",
        "outputId": "0a7949ec-664d-4c32-dbe7-c91b85829b8c"
      },
      "execution_count": null,
      "outputs": [
        {
          "output_type": "execute_result",
          "data": {
            "text/plain": [
              "138347659448416"
            ]
          },
          "metadata": {},
          "execution_count": 13
        }
      ]
    },
    {
      "cell_type": "code",
      "source": [
        "print(c1.model, c1.color, c1.price, sep = '\\n')"
      ],
      "metadata": {
        "colab": {
          "base_uri": "https://localhost:8080/"
        },
        "id": "89eJUjaedgPR",
        "outputId": "512e5b0b-f7b9-420b-de19-a6827c6e0e61"
      },
      "execution_count": null,
      "outputs": [
        {
          "output_type": "stream",
          "name": "stdout",
          "text": [
            "sedan\n",
            "red\n",
            "1000000\n"
          ]
        }
      ]
    },
    {
      "cell_type": "code",
      "source": [
        "#quiz\n",
        "# What is the ouput of following code?\n",
        "class Car:\n",
        "    model = 'Hatchback'\n",
        "    color = 'Red'\n",
        "    price = 1000000\n",
        "    def drive(self):\n",
        "      '''drive my car'''\n",
        "      print(\"zoom zoom\")\n",
        "c1 = Car()\n",
        "c2 = Car()\n",
        "c2.color = 'Black'\n",
        "print(c1.color, c2.color)"
      ],
      "metadata": {
        "colab": {
          "base_uri": "https://localhost:8080/"
        },
        "id": "MZbwgnpAd21A",
        "outputId": "558ce4d5-d30f-4c85-9652-72466ebc12bc"
      },
      "execution_count": null,
      "outputs": [
        {
          "output_type": "stream",
          "name": "stdout",
          "text": [
            "Red Black\n"
          ]
        }
      ]
    },
    {
      "cell_type": "code",
      "source": [
        "Car.color"
      ],
      "metadata": {
        "id": "19k3_dFjeDVG",
        "outputId": "49008778-81d7-42db-9998-7384e7a1841b",
        "colab": {
          "base_uri": "https://localhost:8080/",
          "height": 35
        }
      },
      "execution_count": null,
      "outputs": [
        {
          "output_type": "execute_result",
          "data": {
            "text/plain": [
              "'Red'"
            ],
            "application/vnd.google.colaboratory.intrinsic+json": {
              "type": "string"
            }
          },
          "metadata": {},
          "execution_count": 18
        }
      ]
    },
    {
      "cell_type": "code",
      "source": [
        "help(Car)"
      ],
      "metadata": {
        "id": "-rA_fimNeHYl",
        "outputId": "3d191d8c-97c7-4326-93c4-f4b95a15c19f",
        "colab": {
          "base_uri": "https://localhost:8080/"
        }
      },
      "execution_count": null,
      "outputs": [
        {
          "output_type": "stream",
          "name": "stdout",
          "text": [
            "Help on class Car in module __main__:\n",
            "\n",
            "class Car(builtins.object)\n",
            " |  Methods defined here:\n",
            " |  \n",
            " |  drive(self)\n",
            " |      drive my car\n",
            " |  \n",
            " |  ----------------------------------------------------------------------\n",
            " |  Data descriptors defined here:\n",
            " |  \n",
            " |  __dict__\n",
            " |      dictionary for instance variables (if defined)\n",
            " |  \n",
            " |  __weakref__\n",
            " |      list of weak references to the object (if defined)\n",
            " |  \n",
            " |  ----------------------------------------------------------------------\n",
            " |  Data and other attributes defined here:\n",
            " |  \n",
            " |  color = 'Red'\n",
            " |  \n",
            " |  model = 'Hatchback'\n",
            " |  \n",
            " |  price = 1000000\n",
            "\n"
          ]
        }
      ]
    },
    {
      "cell_type": "code",
      "source": [
        "#quiz\n",
        "# What is the ouput of the following code?\n",
        "class Car:\n",
        "    model = 'Hatchback'\n",
        "    color = 'Red'\n",
        "    price = 1000000\n",
        "\n",
        "    def drive(self):\n",
        "        print(\"zoom zoom\")\n",
        "c1 = Car()\n",
        "c2 = Car()\n",
        "c2.fuel = 'Diesel' #only to c2 object space\n",
        "print(c2.fuel)"
      ],
      "metadata": {
        "colab": {
          "base_uri": "https://localhost:8080/"
        },
        "id": "XwED8F7b9G0u",
        "outputId": "e9ea578c-3bf2-4b53-ab3f-191dd5e27484"
      },
      "execution_count": 1,
      "outputs": [
        {
          "output_type": "stream",
          "name": "stdout",
          "text": [
            "Diesel\n"
          ]
        }
      ]
    },
    {
      "cell_type": "code",
      "source": [
        "c1.fuel"
      ],
      "metadata": {
        "colab": {
          "base_uri": "https://localhost:8080/",
          "height": 141
        },
        "id": "x1Y0YNBJ9y4x",
        "outputId": "c216295b-336c-434d-92b8-34a9b733077d"
      },
      "execution_count": 2,
      "outputs": [
        {
          "output_type": "error",
          "ename": "AttributeError",
          "evalue": "'Car' object has no attribute 'fuel'",
          "traceback": [
            "\u001b[0;31m---------------------------------------------------------------------------\u001b[0m",
            "\u001b[0;31mAttributeError\u001b[0m                            Traceback (most recent call last)",
            "\u001b[0;32m<ipython-input-2-a27aaf563612>\u001b[0m in \u001b[0;36m<cell line: 1>\u001b[0;34m()\u001b[0m\n\u001b[0;32m----> 1\u001b[0;31m \u001b[0mc1\u001b[0m\u001b[0;34m.\u001b[0m\u001b[0mfuel\u001b[0m\u001b[0;34m\u001b[0m\u001b[0;34m\u001b[0m\u001b[0m\n\u001b[0m",
            "\u001b[0;31mAttributeError\u001b[0m: 'Car' object has no attribute 'fuel'"
          ]
        }
      ]
    },
    {
      "cell_type": "code",
      "source": [
        "c1.fuel = 'cng'"
      ],
      "metadata": {
        "id": "UqMt96Pg91Dk"
      },
      "execution_count": 3,
      "outputs": []
    },
    {
      "cell_type": "code",
      "source": [
        "c1.fuel"
      ],
      "metadata": {
        "colab": {
          "base_uri": "https://localhost:8080/",
          "height": 35
        },
        "id": "0XzEUlFK94wI",
        "outputId": "23d7b159-5440-442a-a58d-cfe359342111"
      },
      "execution_count": 4,
      "outputs": [
        {
          "output_type": "execute_result",
          "data": {
            "text/plain": [
              "'cng'"
            ],
            "application/vnd.google.colaboratory.intrinsic+json": {
              "type": "string"
            }
          },
          "metadata": {},
          "execution_count": 4
        }
      ]
    },
    {
      "cell_type": "code",
      "source": [
        "Car.fuel"
      ],
      "metadata": {
        "colab": {
          "base_uri": "https://localhost:8080/",
          "height": 141
        },
        "id": "vHxXk3lA96nQ",
        "outputId": "36628c66-9d46-454f-fff3-18205d74cc7b"
      },
      "execution_count": 5,
      "outputs": [
        {
          "output_type": "error",
          "ename": "AttributeError",
          "evalue": "type object 'Car' has no attribute 'fuel'",
          "traceback": [
            "\u001b[0;31m---------------------------------------------------------------------------\u001b[0m",
            "\u001b[0;31mAttributeError\u001b[0m                            Traceback (most recent call last)",
            "\u001b[0;32m<ipython-input-5-fea49c885f76>\u001b[0m in \u001b[0;36m<cell line: 1>\u001b[0;34m()\u001b[0m\n\u001b[0;32m----> 1\u001b[0;31m \u001b[0mCar\u001b[0m\u001b[0;34m.\u001b[0m\u001b[0mfuel\u001b[0m\u001b[0;34m\u001b[0m\u001b[0;34m\u001b[0m\u001b[0m\n\u001b[0m",
            "\u001b[0;31mAttributeError\u001b[0m: type object 'Car' has no attribute 'fuel'"
          ]
        }
      ]
    },
    {
      "cell_type": "markdown",
      "source": [
        "## **access the method or functionalities of a class**"
      ],
      "metadata": {
        "id": "o8oiHCRBHVwU"
      }
    },
    {
      "cell_type": "code",
      "source": [
        "class Car:\n",
        "  #properties or attributes\n",
        "  model = 'sedan' #class variables or shared variables\n",
        "  color = 'red'\n",
        "  price = 1000000\n",
        "  #functionality or behaviour\n",
        "  def drive():\n",
        "    print('zoom zoom zoom')\n",
        "  def lock():\n",
        "    print('car is locked')\n",
        "  def unlock():\n",
        "    print('car is unlocked')"
      ],
      "metadata": {
        "id": "QPE57bJ9HVc-"
      },
      "execution_count": 8,
      "outputs": []
    },
    {
      "cell_type": "code",
      "source": [
        "c1 = Car()"
      ],
      "metadata": {
        "id": "cJovdP27KmdE"
      },
      "execution_count": 9,
      "outputs": []
    },
    {
      "cell_type": "code",
      "source": [
        "c1.model"
      ],
      "metadata": {
        "colab": {
          "base_uri": "https://localhost:8080/",
          "height": 35
        },
        "id": "0rYyDmciKobv",
        "outputId": "6b0978bb-04ba-4644-fcbc-30ec950ae38d"
      },
      "execution_count": 10,
      "outputs": [
        {
          "output_type": "execute_result",
          "data": {
            "text/plain": [
              "'sedan'"
            ],
            "application/vnd.google.colaboratory.intrinsic+json": {
              "type": "string"
            }
          },
          "metadata": {},
          "execution_count": 10
        }
      ]
    },
    {
      "cell_type": "code",
      "source": [
        "c1.drive()"
      ],
      "metadata": {
        "colab": {
          "base_uri": "https://localhost:8080/",
          "height": 141
        },
        "id": "X38Nmj_uKrPQ",
        "outputId": "397c801a-6441-4499-a323-44558d17eeef"
      },
      "execution_count": 11,
      "outputs": [
        {
          "output_type": "error",
          "ename": "TypeError",
          "evalue": "Car.drive() takes 0 positional arguments but 1 was given",
          "traceback": [
            "\u001b[0;31m---------------------------------------------------------------------------\u001b[0m",
            "\u001b[0;31mTypeError\u001b[0m                                 Traceback (most recent call last)",
            "\u001b[0;32m<ipython-input-11-6ec374288280>\u001b[0m in \u001b[0;36m<cell line: 1>\u001b[0;34m()\u001b[0m\n\u001b[0;32m----> 1\u001b[0;31m \u001b[0mc1\u001b[0m\u001b[0;34m.\u001b[0m\u001b[0mdrive\u001b[0m\u001b[0;34m(\u001b[0m\u001b[0;34m)\u001b[0m\u001b[0;34m\u001b[0m\u001b[0;34m\u001b[0m\u001b[0m\n\u001b[0m",
            "\u001b[0;31mTypeError\u001b[0m: Car.drive() takes 0 positional arguments but 1 was given"
          ]
        }
      ]
    },
    {
      "cell_type": "markdown",
      "source": [
        "## **self**"
      ],
      "metadata": {
        "id": "qlk0IHguLBat"
      }
    },
    {
      "cell_type": "code",
      "source": [
        "class Car:\n",
        "  #properties or attributes\n",
        "  model = 'sedan' #class variables or shared variables\n",
        "  color = 'red'\n",
        "  price = 1000000\n",
        "  #functionality or behaviour\n",
        "  def drive(self):\n",
        "    print('zoom zoom zoom')\n",
        "  def lock():\n",
        "    print('car is locked')\n",
        "  def unlock():\n",
        "    print('car is unlocked')"
      ],
      "metadata": {
        "id": "HASKlRknLEEk"
      },
      "execution_count": 12,
      "outputs": []
    },
    {
      "cell_type": "code",
      "source": [
        "c1 = Car()"
      ],
      "metadata": {
        "id": "JUVCYJ3VLHYm"
      },
      "execution_count": 13,
      "outputs": []
    },
    {
      "cell_type": "code",
      "source": [
        "c1.drive()"
      ],
      "metadata": {
        "colab": {
          "base_uri": "https://localhost:8080/"
        },
        "id": "NtrqQ0lzLLC_",
        "outputId": "5443b729-92ca-4242-987e-2dd49dddef05"
      },
      "execution_count": 15,
      "outputs": [
        {
          "output_type": "stream",
          "name": "stdout",
          "text": [
            "zoom zoom zoom\n"
          ]
        }
      ]
    },
    {
      "cell_type": "code",
      "source": [
        "Car.drive(c1)"
      ],
      "metadata": {
        "colab": {
          "base_uri": "https://localhost:8080/"
        },
        "id": "zOtUkdDbLVJN",
        "outputId": "3929871b-246a-4d0b-8f99-66ff648bc47c"
      },
      "execution_count": 18,
      "outputs": [
        {
          "output_type": "stream",
          "name": "stdout",
          "text": [
            "zoom zoom zoom\n"
          ]
        }
      ]
    },
    {
      "cell_type": "code",
      "source": [
        "Car.drive() #will give error"
      ],
      "metadata": {
        "colab": {
          "base_uri": "https://localhost:8080/",
          "height": 141
        },
        "id": "MOowimklQvBI",
        "outputId": "36832be7-edd8-4f00-9363-413cdeaa3b4e"
      },
      "execution_count": 19,
      "outputs": [
        {
          "output_type": "error",
          "ename": "TypeError",
          "evalue": "Car.drive() missing 1 required positional argument: 'self'",
          "traceback": [
            "\u001b[0;31m---------------------------------------------------------------------------\u001b[0m",
            "\u001b[0;31mTypeError\u001b[0m                                 Traceback (most recent call last)",
            "\u001b[0;32m<ipython-input-19-e11831e15ea8>\u001b[0m in \u001b[0;36m<cell line: 1>\u001b[0;34m()\u001b[0m\n\u001b[0;32m----> 1\u001b[0;31m \u001b[0mCar\u001b[0m\u001b[0;34m.\u001b[0m\u001b[0mdrive\u001b[0m\u001b[0;34m(\u001b[0m\u001b[0;34m)\u001b[0m \u001b[0;31m#will give error\u001b[0m\u001b[0;34m\u001b[0m\u001b[0;34m\u001b[0m\u001b[0m\n\u001b[0m",
            "\u001b[0;31mTypeError\u001b[0m: Car.drive() missing 1 required positional argument: 'self'"
          ]
        }
      ]
    },
    {
      "cell_type": "code",
      "source": [
        "print(type(c1))"
      ],
      "metadata": {
        "colab": {
          "base_uri": "https://localhost:8080/"
        },
        "id": "WD1074-vQ9P8",
        "outputId": "d9008112-3bf5-425f-c3df-40fe9db10fc4"
      },
      "execution_count": 22,
      "outputs": [
        {
          "output_type": "stream",
          "name": "stdout",
          "text": [
            "<class '__main__.Car'>\n"
          ]
        }
      ]
    },
    {
      "cell_type": "code",
      "source": [
        "lst1 = [10,20,30]\n",
        "lst2 = [1,2,3]\n",
        "print(type(lst1))"
      ],
      "metadata": {
        "colab": {
          "base_uri": "https://localhost:8080/"
        },
        "id": "o0MuBtEnRf7p",
        "outputId": "09b5642b-defe-4ae2-aab9-de376884f35d"
      },
      "execution_count": 25,
      "outputs": [
        {
          "output_type": "stream",
          "name": "stdout",
          "text": [
            "<class 'list'>\n"
          ]
        }
      ]
    },
    {
      "cell_type": "markdown",
      "source": [
        "# **__init__()**"
      ],
      "metadata": {
        "id": "-k_sWgw1X2jU"
      }
    },
    {
      "cell_type": "code",
      "source": [
        "class Car:\n",
        "  def __init__(self,model,color,price):  #to intialise instance variables\n",
        "   self.model = model #instance or object variables\n",
        "   self.color = color\n",
        "   self.price = price\n",
        "  #functionality or behaviour\n",
        "  def drive(self):\n",
        "    print('zoom zoom zoom')\n",
        "  def lock(self):\n",
        "    print('car is locked')\n",
        "  def unlock(self):\n",
        "    print('car is unlocked')\n",
        "  def printDetails(self):\n",
        "    print(self.color)\n",
        "    print(self.model)\n",
        "    print(self.price)\n",
        "    print(id(self))\n"
      ],
      "metadata": {
        "id": "iPpiZC9NYBry"
      },
      "execution_count": 28,
      "outputs": []
    },
    {
      "cell_type": "code",
      "source": [
        " c1 = Car()"
      ],
      "metadata": {
        "colab": {
          "base_uri": "https://localhost:8080/",
          "height": 141
        },
        "id": "aGwj_9BFYOmO",
        "outputId": "2a24bd51-e4e4-452b-f158-2dd9e78b6b67"
      },
      "execution_count": 33,
      "outputs": [
        {
          "output_type": "error",
          "ename": "TypeError",
          "evalue": "Car.__init__() missing 3 required positional arguments: 'model', 'color', and 'price'",
          "traceback": [
            "\u001b[0;31m---------------------------------------------------------------------------\u001b[0m",
            "\u001b[0;31mTypeError\u001b[0m                                 Traceback (most recent call last)",
            "\u001b[0;32m<ipython-input-33-f07fd52c73f5>\u001b[0m in \u001b[0;36m<cell line: 1>\u001b[0;34m()\u001b[0m\n\u001b[0;32m----> 1\u001b[0;31m \u001b[0mc1\u001b[0m \u001b[0;34m=\u001b[0m \u001b[0mCar\u001b[0m\u001b[0;34m(\u001b[0m\u001b[0;34m)\u001b[0m\u001b[0;34m\u001b[0m\u001b[0;34m\u001b[0m\u001b[0m\n\u001b[0m",
            "\u001b[0;31mTypeError\u001b[0m: Car.__init__() missing 3 required positional arguments: 'model', 'color', and 'price'"
          ]
        }
      ]
    },
    {
      "cell_type": "code",
      "source": [
        "c1 = Car('suv','green',1000000)"
      ],
      "metadata": {
        "id": "sJGhObYTYQHg"
      },
      "execution_count": 30,
      "outputs": []
    },
    {
      "cell_type": "code",
      "source": [
        "Car.model #because there's no class variables"
      ],
      "metadata": {
        "colab": {
          "base_uri": "https://localhost:8080/",
          "height": 141
        },
        "id": "bhYSb020Ydsh",
        "outputId": "fcf8d8e3-7cd3-4f25-81f9-9a74a0e00096"
      },
      "execution_count": 32,
      "outputs": [
        {
          "output_type": "error",
          "ename": "AttributeError",
          "evalue": "type object 'Car' has no attribute 'model'",
          "traceback": [
            "\u001b[0;31m---------------------------------------------------------------------------\u001b[0m",
            "\u001b[0;31mAttributeError\u001b[0m                            Traceback (most recent call last)",
            "\u001b[0;32m<ipython-input-32-7a23fcbc8fb7>\u001b[0m in \u001b[0;36m<cell line: 1>\u001b[0;34m()\u001b[0m\n\u001b[0;32m----> 1\u001b[0;31m \u001b[0mCar\u001b[0m\u001b[0;34m.\u001b[0m\u001b[0mmodel\u001b[0m \u001b[0;31m#because there's no class variables\u001b[0m\u001b[0;34m\u001b[0m\u001b[0;34m\u001b[0m\u001b[0m\n\u001b[0m",
            "\u001b[0;31mAttributeError\u001b[0m: type object 'Car' has no attribute 'model'"
          ]
        }
      ]
    },
    {
      "cell_type": "code",
      "source": [
        "class Car:\n",
        "  company = 'TATA' #class variable/shared variable\n",
        "  def __init__(self,model,color,price):\n",
        "   self.model = model #instance or object variables\n",
        "   self.color = color\n",
        "   self.price = price\n",
        "  #functionality or behaviour\n",
        "  def drive(self):\n",
        "    print('zoom zoom zoom')\n",
        "  def lock(self):\n",
        "    print('car is locked')\n",
        "  def unlock(self):\n",
        "    print('car is unlocked')\n",
        "  def printDetails(self):\n",
        "    print(self.color)\n",
        "    print(self.model)\n",
        "    print(self.price)\n",
        "    print(id(self))\n"
      ],
      "metadata": {
        "id": "9ganjgY3ckAc"
      },
      "execution_count": 34,
      "outputs": []
    },
    {
      "cell_type": "code",
      "source": [
        "c1 = Car('suv','green',1000000)\n",
        "c2 = Car('sedan','black',800000)\n",
        "print(c1.company, c2.company)\n",
        "Car.company"
      ],
      "metadata": {
        "colab": {
          "base_uri": "https://localhost:8080/",
          "height": 53
        },
        "id": "514UFQ9lcmSj",
        "outputId": "91b60a61-1b55-44e1-8528-f5fcb2f12ca6"
      },
      "execution_count": 37,
      "outputs": [
        {
          "output_type": "stream",
          "name": "stdout",
          "text": [
            "TATA TATA\n"
          ]
        },
        {
          "output_type": "execute_result",
          "data": {
            "text/plain": [
              "'TATA'"
            ],
            "application/vnd.google.colaboratory.intrinsic+json": {
              "type": "string"
            }
          },
          "metadata": {},
          "execution_count": 37
        }
      ]
    }
  ]
}