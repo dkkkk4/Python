{
  "nbformat": 4,
  "nbformat_minor": 0,
  "metadata": {
    "colab": {
      "provenance": [],
      "authorship_tag": "ABX9TyMDqct9VYsKes7ovFs2flpo",
      "include_colab_link": true
    },
    "kernelspec": {
      "name": "python3",
      "display_name": "Python 3"
    },
    "language_info": {
      "name": "python"
    }
  },
  "cells": [
    {
      "cell_type": "markdown",
      "metadata": {
        "id": "view-in-github",
        "colab_type": "text"
      },
      "source": [
        "<a href=\"https://colab.research.google.com/github/dkkkk4/Python/blob/main/REGEX/RegexExercise.ipynb\" target=\"_parent\"><img src=\"https://colab.research.google.com/assets/colab-badge.svg\" alt=\"Open In Colab\"/></a>"
      ]
    },
    {
      "cell_type": "markdown",
      "source": [
        "**Q.1 Which regex pattern in Python can be used to match any sequence of digits?**"
      ],
      "metadata": {
        "id": "Ml5eWhe2qKzd"
      }
    },
    {
      "cell_type": "markdown",
      "source": [
        "1. \\d+  ✔\n",
        "2. \\w*\n",
        "3. [^0-9]\n",
        "4. \\D"
      ],
      "metadata": {
        "id": "HF18LzR-qRFk"
      }
    },
    {
      "cell_type": "markdown",
      "source": [
        "**Q.2 Which of the following regex pattern can be used to validate a strong password in Python. A strong password must meet the following criteria:**"
      ],
      "metadata": {
        "id": "Az-Hyd2DSqRw"
      }
    },
    {
      "cell_type": "markdown",
      "source": [
        "```\n",
        "At least 8 characters long\n",
        "Contains at least one uppercase letter, one lowercase letter, one digit, and one special character from the set: !@#$%^&*()-_=+[]{}|;:'\",.<>?/\n",
        "\n",
        "A. ✔^(?=.*[a-z])(?=.*[A-Z])(?=.*\\d)(?=.*[!@#$%^&*()-_=+[\\]{}|;:'\",.<>?/]).{8,}$\n",
        "\n",
        "B. ^(?=.*[a-z])(?=.*[A-Z])(?=.*\\d)(?=.*[\\W_]).{8,}$\n",
        "\n",
        "C. ^(?=.*[a-z])(?=.*[A-Z])(?=.*\\d)(?=.*[!@#$%^&*()-_=+[\\]{}|;:'\",.<>?/]).$\n",
        "\n",
        "D. ^(?=.*[a-z])(?=.*[A-Z])(?=.*\\d)(?=.*[^a-zA-Z\\d]).{8,}$\n",
        "```"
      ],
      "metadata": {
        "id": "dbt3qFUdSc1T"
      }
    },
    {
      "cell_type": "markdown",
      "source": [
        "**Q.3 Given the following regex pattern x = '(\\d+)\\s(?:apples|mangoes), what will be the result of re.findall(x, '7 apples and 4 mangoes')??**"
      ],
      "metadata": {
        "id": "tbZuXrqHT7C2"
      }
    },
    {
      "cell_type": "code",
      "execution_count": 1,
      "metadata": {
        "colab": {
          "base_uri": "https://localhost:8080/"
        },
        "id": "2sBwIdncpwpx",
        "outputId": "ea79a229-d359-43a1-d3b4-d901f2a6021c"
      },
      "outputs": [
        {
          "output_type": "execute_result",
          "data": {
            "text/plain": [
              "['7', '4']"
            ]
          },
          "metadata": {},
          "execution_count": 1
        }
      ],
      "source": [
        "import regex as re\n",
        "pattern_x = '(\\d+)\\s(?:apples|mangoes)'\n",
        "re.findall(pattern_x, '7 apples and 4 mangoes')"
      ]
    },
    {
      "cell_type": "markdown",
      "source": [
        "**Q.4 How can you check if a string starts with the prefix \"hello\" using regex in Python?**"
      ],
      "metadata": {
        "id": "L99xi9l0VBkO"
      }
    },
    {
      "cell_type": "code",
      "source": [
        "data = 'hello deepak, how are you.'\n",
        "import regex as re\n",
        "re.search(\"hello\", data)\n",
        "# re.prefix(\"hello\", data)\n",
        "# re.start(\"hello\", data)\n",
        "re.match(\"hello\", data)\n"
      ],
      "metadata": {
        "colab": {
          "base_uri": "https://localhost:8080/"
        },
        "id": "e_6YaaHBU_uU",
        "outputId": "73cf1331-1ff8-4e7b-a5c0-e791ffb97cff"
      },
      "execution_count": 6,
      "outputs": [
        {
          "output_type": "execute_result",
          "data": {
            "text/plain": [
              "<regex.Match object; span=(0, 5), match='hello'>"
            ]
          },
          "metadata": {},
          "execution_count": 6
        }
      ]
    },
    {
      "cell_type": "markdown",
      "source": [
        "**re.match()**  function of re in Python will search the regular expression pattern and return the first occurrence. The Python RegEx Match method checks for a ***match only at the beginning of the string***. So, ***if a match is found in the first line, it returns the match object.*** But ***if a match is found in some other line, the Python RegEx Match function returns null.***\n",
        "\n",
        "**re.search()** function will search the regular expression pattern and return the first occurrence. ***Unlike Python re.match(), it will check all lines of the input string.*** The Python r***e.search() function returns a match object when the pattern is found and “null” if the pattern is not found***"
      ],
      "metadata": {
        "id": "rBIvd20CWlAc"
      }
    }
  ]
}