{
  "nbformat": 4,
  "nbformat_minor": 0,
  "metadata": {
    "colab": {
      "provenance": [],
      "authorship_tag": "ABX9TyPjYt4u+ID4r5VTuLm4KARO",
      "include_colab_link": true
    },
    "kernelspec": {
      "name": "python3",
      "display_name": "Python 3"
    },
    "language_info": {
      "name": "python"
    }
  },
  "cells": [
    {
      "cell_type": "markdown",
      "metadata": {
        "id": "view-in-github",
        "colab_type": "text"
      },
      "source": [
        "<a href=\"https://colab.research.google.com/github/dkkkk4/Python/blob/main/DataLemur/Two_Sum%5BAmazon_Python_Interview_Question%5D.ipynb\" target=\"_parent\"><img src=\"https://colab.research.google.com/assets/colab-badge.svg\" alt=\"Open In Colab\"/></a>"
      ]
    },
    {
      "cell_type": "code",
      "execution_count": 5,
      "metadata": {
        "colab": {
          "base_uri": "https://localhost:8080/"
        },
        "id": "MQcrFuOeaOAn",
        "outputId": "71423c38-7dc2-467b-f204-3388769cb34f"
      },
      "outputs": [
        {
          "name": "stdout",
          "output_type": "stream",
          "text": [
            "1 4 6 10\n",
            "2\n"
          ]
        },
        {
          "output_type": "execute_result",
          "data": {
            "text/plain": [
              "[-1, -1]"
            ]
          },
          "metadata": {},
          "execution_count": 5
        }
      ],
      "source": [
        "def two_sum(input: list[int], target: int) -> list[int]:\n",
        "  res = []\n",
        "  for i in range(len(input)-1):\n",
        "    for j in range(i+1,len(input)):\n",
        "      if input[i]+input[j] == target:\n",
        "        res.append(i)\n",
        "        res.append(j)\n",
        "        break\n",
        "  if len(res) == 0:\n",
        "      res.append(-1)\n",
        "      res.append(-1)\n",
        "  return res\n",
        "\n",
        "n = list(map(int, input().split()))\n",
        "t = int(input())\n",
        "two_sum(n, t)"
      ]
    }
  ]
}