{
  "nbformat": 4,
  "nbformat_minor": 0,
  "metadata": {
    "colab": {
      "provenance": [],
      "authorship_tag": "ABX9TyOGkbVFTBp24Uq5EZwwcYNC",
      "include_colab_link": true
    },
    "kernelspec": {
      "name": "python3",
      "display_name": "Python 3"
    },
    "language_info": {
      "name": "python"
    }
  },
  "cells": [
    {
      "cell_type": "markdown",
      "metadata": {
        "id": "view-in-github",
        "colab_type": "text"
      },
      "source": [
        "<a href=\"https://colab.research.google.com/github/dkkkk4/Python/blob/main/DataLemur/Maximum_Product_of_Three_Numbers_%5BD_E__Shaw%5D.ipynb\" target=\"_parent\"><img src=\"https://colab.research.google.com/assets/colab-badge.svg\" alt=\"Open In Colab\"/></a>"
      ]
    },
    {
      "cell_type": "code",
      "execution_count": 11,
      "metadata": {
        "colab": {
          "base_uri": "https://localhost:8080/"
        },
        "id": "KfeJ1kP7ATmh",
        "outputId": "61f0c2f7-5865-48d1-bd33-349b44e3a572"
      },
      "outputs": [
        {
          "name": "stdout",
          "output_type": "stream",
          "text": [
            "1 2 3 4 5\n"
          ]
        },
        {
          "output_type": "execute_result",
          "data": {
            "text/plain": [
              "60"
            ]
          },
          "metadata": {},
          "execution_count": 11
        }
      ],
      "source": [
        "def max_three(n):\n",
        "\tn.sort()\n",
        "\tif ((n[0]*n[1]*n[-1])>(n[-3]*n[-2]*n[-1])):\n",
        "\t  return (n[0]*n[1]*n[-1])\n",
        "\telse:\n",
        "\t  return (n[-3]*n[-2]*n[-1])\n",
        "\n",
        "n = list(map(int ,input().split()))\n",
        "max_three(n)"
      ]
    }
  ]
}