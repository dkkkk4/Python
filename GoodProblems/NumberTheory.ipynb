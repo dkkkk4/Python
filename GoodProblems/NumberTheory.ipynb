{
  "nbformat": 4,
  "nbformat_minor": 0,
  "metadata": {
    "colab": {
      "provenance": [],
      "authorship_tag": "ABX9TyNDAe1B6yRdm6DPYVFaENvz",
      "include_colab_link": true
    },
    "kernelspec": {
      "name": "python3",
      "display_name": "Python 3"
    },
    "language_info": {
      "name": "python"
    }
  },
  "cells": [
    {
      "cell_type": "markdown",
      "metadata": {
        "id": "view-in-github",
        "colab_type": "text"
      },
      "source": [
        "<a href=\"https://colab.research.google.com/github/dkkkk4/Python/blob/main/NumberTheory.ipynb\" target=\"_parent\"><img src=\"https://colab.research.google.com/assets/colab-badge.svg\" alt=\"Open In Colab\"/></a>"
      ]
    },
    {
      "cell_type": "markdown",
      "source": [
        "# **To find if a number is prime**\n"
      ],
      "metadata": {
        "id": "F9-oktos3aEF"
      }
    },
    {
      "cell_type": "code",
      "execution_count": 1,
      "metadata": {
        "colab": {
          "base_uri": "https://localhost:8080/"
        },
        "id": "pju3jJKp3WxB",
        "outputId": "c1da4050-6ff5-4c90-d20b-8a69c164c790"
      },
      "outputs": [
        {
          "output_type": "stream",
          "name": "stdout",
          "text": [
            "Enter the number to find if its prime : -589\n",
            "It's not prime\n"
          ]
        }
      ],
      "source": [
        "\n",
        "import math\n",
        "x = int(input(\"Enter the number to find if its prime : -\"))\n",
        "y = round(math.sqrt(x))\n",
        "i = 2\n",
        "while i <= y:\n",
        "    if(x%i == 0):\n",
        "        print(\"It's not prime\")\n",
        "        break;\n",
        "    elif (i==y):\n",
        "        print(\"It's prime\")\n",
        "    else:\n",
        "        pass\n",
        "    i+=1\n"
      ]
    },
    {
      "cell_type": "markdown",
      "source": [
        "# To find Greatest Common **Divisor**\n",
        "\n",
        "## 1. With inbuilt function"
      ],
      "metadata": {
        "id": "zq45kjWh3wrP"
      }
    },
    {
      "cell_type": "code",
      "source": [
        "import math\n",
        "\n",
        "a, b = [int(x) for x in input(\"Enter numbers to find GCD for:-\").split()]\n",
        "print(\"Values entered are: -\",a ,b)\n",
        "\n",
        "x = math.gcd(a,b)\n",
        "print(x)\n",
        "\n"
      ],
      "metadata": {
        "colab": {
          "base_uri": "https://localhost:8080/"
        },
        "id": "ETfn_DX23kcZ",
        "outputId": "90a9dea1-5a3e-43a2-ed7e-5a5ca5864e51"
      },
      "execution_count": 4,
      "outputs": [
        {
          "output_type": "stream",
          "name": "stdout",
          "text": [
            "Enter numbers to find GCD for:-8795 2546\n",
            "Values entered are: - 8795 2546\n",
            "1\n"
          ]
        }
      ]
    },
    {
      "cell_type": "markdown",
      "source": [
        "## 2. With euclidean algorithm"
      ],
      "metadata": {
        "id": "u_HEsJ_3344h"
      }
    },
    {
      "cell_type": "code",
      "source": [
        "def gcd(a, b):\n",
        "    if(a==0):\n",
        "        return b\n",
        "    elif(b==0):\n",
        "        return a\n",
        "    elif(a==b):\n",
        "        return a\n",
        "    elif(a>b):\n",
        "        return gcd(a-b,b)\n",
        "    return gcd(a,b-a)\n",
        "\n",
        "a, b = [int(x) for x in input(\"Enter numbers to find GCD for:-\").split()]\n",
        "print(\"Values entered are: -\",a ,b)\n",
        "print(\"GCD of\", a, \"and\", b, \"is :- \",gcd(a,b))\n"
      ],
      "metadata": {
        "colab": {
          "base_uri": "https://localhost:8080/"
        },
        "id": "NTVI5Jmr34A8",
        "outputId": "1a9a060b-7901-48b4-e52e-9626a99bb4ac"
      },
      "execution_count": 3,
      "outputs": [
        {
          "output_type": "stream",
          "name": "stdout",
          "text": [
            "Enter numbers to find GCD for:-8795 2546\n",
            "Values entered are: - 8795 2546\n",
            "GCD of 8795 and 2546 is :-  1\n"
          ]
        }
      ]
    },
    {
      "cell_type": "markdown",
      "source": [
        "# **To find if two numbers are coprime**"
      ],
      "metadata": {
        "id": "ovr55YfQ4SUc"
      }
    },
    {
      "cell_type": "code",
      "source": [
        "import math\n",
        "\n",
        "a,b= [int(x) for x in input(\"Enter numbers for which you want to check if they are coprime :- \").split()]\n",
        "if(math.gcd(a,b)==1):\n",
        "    print(\"They are coprime\")\n",
        "else:\n",
        "    print(\"They are not coprime\")\n",
        "\n"
      ],
      "metadata": {
        "colab": {
          "base_uri": "https://localhost:8080/"
        },
        "id": "5JM7bgR53-er",
        "outputId": "12bfd4b3-c836-4d7e-f7cb-ad06067514b7"
      },
      "execution_count": 5,
      "outputs": [
        {
          "output_type": "stream",
          "name": "stdout",
          "text": [
            "Enter numbers for which you want to check if they are coprime :- 8795 2546\n",
            "They are coprime\n"
          ]
        }
      ]
    }
  ]
}
