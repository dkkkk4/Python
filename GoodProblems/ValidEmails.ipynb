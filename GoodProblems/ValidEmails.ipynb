{
  "nbformat": 4,
  "nbformat_minor": 0,
  "metadata": {
    "colab": {
      "provenance": [],
      "authorship_tag": "ABX9TyOmEkAU0GQsugu+JABRE3Q4",
      "include_colab_link": true
    },
    "kernelspec": {
      "name": "python3",
      "display_name": "Python 3"
    },
    "language_info": {
      "name": "python"
    }
  },
  "cells": [
    {
      "cell_type": "markdown",
      "metadata": {
        "id": "view-in-github",
        "colab_type": "text"
      },
      "source": [
        "<a href=\"https://colab.research.google.com/github/dkkkk4/Python/blob/main/GoodProblems/ValidEmails.ipynb\" target=\"_parent\"><img src=\"https://colab.research.google.com/assets/colab-badge.svg\" alt=\"Open In Colab\"/></a>"
      ]
    },
    {
      "cell_type": "code",
      "execution_count": 1,
      "metadata": {
        "colab": {
          "base_uri": "https://localhost:8080/"
        },
        "id": "W4ZFkuFDiG-G",
        "outputId": "56a8eccc-7377-4b3b-8464-09ac2945bc8c"
      },
      "outputs": [
        {
          "output_type": "execute_result",
          "data": {
            "text/plain": [
              "['SachinKothari@gmail.co.in', 'deepakkulhar4@gmail.com']"
            ]
          },
          "metadata": {},
          "execution_count": 1
        }
      ],
      "source": [
        "def check(emails):\n",
        "    '''\n",
        "    input:\n",
        "    emails -> list of emails to check\n",
        "\n",
        "    output:\n",
        "    verified_lex -> the verified list of emails, in lexicographical order\n",
        "    '''\n",
        "\n",
        "    verified_lex = None\n",
        "\n",
        "    # Your code starts here\n",
        "    verified_lex=[]\n",
        "    for s in emails:\n",
        "        if s.count('@') == 1 and len(s.split('@')[0]) <= 20 and s.split('@')[1].count('.')>=1 and s[-1]!='.'and len(s.split('@')[1]) >=5 and len(s.split('@')[0]) >0:\n",
        "            verified_lex.append(s)\n",
        "\n",
        "    verified_lex.sort()\n",
        "\n",
        "    # Your code ends here\n",
        "    return verified_lex\n",
        "\n",
        "emails = ['deepakkulhar4@gmail.com', 'SachinKothari@gmail.co.in', '#dfegh@jk@gmail.com', 'asfsghfj345@gmail.co.', 'hhrf78@.com']\n",
        "check(emails)"
      ]
    }
  ]
}