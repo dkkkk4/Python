{
  "nbformat": 4,
  "nbformat_minor": 0,
  "metadata": {
    "colab": {
      "provenance": [],
      "mount_file_id": "168213j8eKBOB3hMo93cVaz2O3aDC9EjK",
      "authorship_tag": "ABX9TyP1lU5JRutrsk/2qf4wjRM2",
      "include_colab_link": true
    },
    "kernelspec": {
      "name": "python3",
      "display_name": "Python 3"
    },
    "language_info": {
      "name": "python"
    }
  },
  "cells": [
    {
      "cell_type": "markdown",
      "metadata": {
        "id": "view-in-github",
        "colab_type": "text"
      },
      "source": [
        "<a href=\"https://colab.research.google.com/github/dkkkk4/Python/blob/main/CeilAndFloorOf_A_Number.ipynb\" target=\"_parent\"><img src=\"https://colab.research.google.com/assets/colab-badge.svg\" alt=\"Open In Colab\"/></a>"
      ]
    },
    {
      "cell_type": "code",
      "execution_count": 5,
      "metadata": {
        "colab": {
          "base_uri": "https://localhost:8080/"
        },
        "id": "Yco_wzy503Cq",
        "outputId": "8a71b05e-e060-49ea-e8df-492198807c10"
      },
      "outputs": [
        {
          "name": "stdout",
          "output_type": "stream",
          "text": [
            "Enter array in which to find the ceil and floor :- 12 45 85 698 425\n",
            "Enter the number for which ceil and floor is to be found:- 500\n"
          ]
        },
        {
          "output_type": "execute_result",
          "data": {
            "text/plain": [
              "[698, 425]"
            ]
          },
          "metadata": {},
          "execution_count": 5
        }
      ],
      "source": [
        "def solve( A, B):\n",
        "\n",
        "    ceil = 0\n",
        "    floor = 0\n",
        "    res = []\n",
        "    for i in range(0,len(A)-1):\n",
        "        if A[i] < B and A[i+1] > B:\n",
        "            floor = A[i]\n",
        "            ceil = A[i+1]\n",
        "            break\n",
        "        elif A[i] == B:\n",
        "            floor = A[i]\n",
        "            ceil = A[i]\n",
        "        else:\n",
        "            continue\n",
        "    res = [ceil, floor]\n",
        "    return res\n",
        "\n",
        "Array = input(\"Enter array in which to find the ceil and floor :- \")\n",
        "A = list(map(int, Array.split()))\n",
        "A.sort()\n",
        "B = int(input(\"Enter the number for which ceil and floor is to be found:- \"))\n",
        "solve( A, B)\n"
      ]
    }
  ]
}
