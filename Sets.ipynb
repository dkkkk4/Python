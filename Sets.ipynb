{
  "nbformat": 4,
  "nbformat_minor": 0,
  "metadata": {
    "colab": {
      "provenance": [],
      "authorship_tag": "ABX9TyN0dhA8ZFMPD516GnDmr755",
      "include_colab_link": true
    },
    "kernelspec": {
      "name": "python3",
      "display_name": "Python 3"
    },
    "language_info": {
      "name": "python"
    }
  },
  "cells": [
    {
      "cell_type": "markdown",
      "metadata": {
        "id": "view-in-github",
        "colab_type": "text"
      },
      "source": [
        "<a href=\"https://colab.research.google.com/github/dkkkk4/Python/blob/main/Sets.ipynb\" target=\"_parent\"><img src=\"https://colab.research.google.com/assets/colab-badge.svg\" alt=\"Open In Colab\"/></a>"
      ]
    },
    {
      "cell_type": "markdown",
      "source": [
        "## **Tuple Odd/Even**"
      ],
      "metadata": {
        "id": "Jpyzmuq4UA0_"
      }
    },
    {
      "cell_type": "code",
      "execution_count": 3,
      "metadata": {
        "colab": {
          "base_uri": "https://localhost:8080/"
        },
        "id": "iBlUrXwpKA6r",
        "outputId": "a40ffc31-8450-4b22-94b3-763db4c6ff0a"
      },
      "outputs": [
        {
          "output_type": "execute_result",
          "data": {
            "text/plain": [
              "((10, 5, 10, 10, 5, 8), (8, 2, 15, 8, 8, 2))"
            ]
          },
          "metadata": {},
          "execution_count": 3
        }
      ],
      "source": [
        "def odd_even_split_tuple(tup):\n",
        "    ''' input:tup-indicates the tuple\n",
        "         output:print two tuples one for even indexed and odd indexed in the given output format'''\n",
        "\n",
        "    # YOUR CODE GOES HERE\n",
        "    list1 = list(tup)\n",
        "    odd = tuple(list1[::2])\n",
        "    even = tuple(list1[1::2])\n",
        "    return odd, even\n",
        "\n",
        "tup = tuple((10, 8, 5, 2, 10, 15, 10, 8, 5, 8, 8, 2))\n",
        "odd_even_split_tuple(tup)"
      ]
    },
    {
      "cell_type": "markdown",
      "source": [
        "**Little check**"
      ],
      "metadata": {
        "id": "x_zRobPLU10o"
      }
    },
    {
      "cell_type": "code",
      "source": [
        "s = set(['Python', 'Language', 'is', 'Awesome'])\n",
        "r ={'Python', 'Language', 'is', 'Awesome'}\n",
        "s, r"
      ],
      "metadata": {
        "colab": {
          "base_uri": "https://localhost:8080/"
        },
        "id": "FXYwwSiBUG9v",
        "outputId": "3cc59998-b681-4f16-8f9d-0427cbe2dea8"
      },
      "execution_count": 10,
      "outputs": [
        {
          "output_type": "execute_result",
          "data": {
            "text/plain": [
              "({'Awesome', 'Language', 'Python', 'is'},\n",
              " {'Awesome', 'Language', 'Python', 'is'})"
            ]
          },
          "metadata": {},
          "execution_count": 10
        }
      ]
    },
    {
      "cell_type": "markdown",
      "source": [
        "**Quiz**"
      ],
      "metadata": {
        "id": "_tFjowN8bdLz"
      }
    },
    {
      "cell_type": "code",
      "source": [
        "sets = {3, 4, 5}\n",
        "____________   # fill in the blank\n",
        "print(sets)\n",
        "\n",
        "#Expected Output: {1, 2, 3, 4, 5}\n",
        "\n",
        "#A = sets.update([1, 2, 3])  ✔\n",
        "#B = sets = sets.union({1, 2, 3}) ✔\n",
        "#C = sets.add([1, 2 ,3])  ❌\n",
        "#D = sets += [1, 2 ,3]  ❌\n",
        "#E = sets += {1, 2, 3}  ❌\n",
        ""
      ],
      "metadata": {
        "colab": {
          "base_uri": "https://localhost:8080/",
          "height": 245
        },
        "id": "TYjGxtYnVIaH",
        "outputId": "dd10667f-f297-463d-d69c-40a87f1d2bfa"
      },
      "execution_count": 17,
      "outputs": [
        {
          "output_type": "error",
          "ename": "TypeError",
          "evalue": "unsupported operand type(s) for +=: 'set' and 'set'",
          "traceback": [
            "\u001b[0;31m---------------------------------------------------------------------------\u001b[0m",
            "\u001b[0;31mTypeError\u001b[0m                                 Traceback (most recent call last)",
            "\u001b[0;32m<ipython-input-17-de2b6ae03eb3>\u001b[0m in \u001b[0;36m<cell line: 2>\u001b[0;34m()\u001b[0m\n\u001b[1;32m      1\u001b[0m \u001b[0msets\u001b[0m \u001b[0;34m=\u001b[0m \u001b[0;34m{\u001b[0m\u001b[0;36m3\u001b[0m\u001b[0;34m,\u001b[0m \u001b[0;36m4\u001b[0m\u001b[0;34m,\u001b[0m \u001b[0;36m5\u001b[0m\u001b[0;34m}\u001b[0m\u001b[0;34m\u001b[0m\u001b[0;34m\u001b[0m\u001b[0m\n\u001b[0;32m----> 2\u001b[0;31m \u001b[0msets\u001b[0m \u001b[0;34m+=\u001b[0m \u001b[0;34m{\u001b[0m\u001b[0;36m1\u001b[0m\u001b[0;34m,\u001b[0m \u001b[0;36m2\u001b[0m\u001b[0;34m,\u001b[0m \u001b[0;36m3\u001b[0m\u001b[0;34m}\u001b[0m   \u001b[0;31m# fill in the blank\u001b[0m\u001b[0;34m\u001b[0m\u001b[0;34m\u001b[0m\u001b[0m\n\u001b[0m\u001b[1;32m      3\u001b[0m \u001b[0mprint\u001b[0m\u001b[0;34m(\u001b[0m\u001b[0msets\u001b[0m\u001b[0;34m)\u001b[0m\u001b[0;34m\u001b[0m\u001b[0;34m\u001b[0m\u001b[0m\n\u001b[1;32m      4\u001b[0m \u001b[0;34m\u001b[0m\u001b[0m\n\u001b[1;32m      5\u001b[0m \u001b[0;31m#Expected Output: {1, 2, 3, 4, 5}\u001b[0m\u001b[0;34m\u001b[0m\u001b[0;34m\u001b[0m\u001b[0m\n",
            "\u001b[0;31mTypeError\u001b[0m: unsupported operand type(s) for +=: 'set' and 'set'"
          ]
        }
      ]
    },
    {
      "cell_type": "markdown",
      "source": [
        "**Set doesn't follow indexing**"
      ],
      "metadata": {
        "id": "hAJ8UoVkb0Sz"
      }
    },
    {
      "cell_type": "code",
      "source": [
        "a={'Aurn', 'Nikhil', 'Seeta'}\n",
        "a[0]= 'Arun'\n",
        "print(a)"
      ],
      "metadata": {
        "colab": {
          "base_uri": "https://localhost:8080/",
          "height": 210
        },
        "id": "8Jp4Sk8PbyUw",
        "outputId": "338547fe-7030-4b93-84f3-ebf302d70606"
      },
      "execution_count": 18,
      "outputs": [
        {
          "output_type": "error",
          "ename": "TypeError",
          "evalue": "'set' object does not support item assignment",
          "traceback": [
            "\u001b[0;31m---------------------------------------------------------------------------\u001b[0m",
            "\u001b[0;31mTypeError\u001b[0m                                 Traceback (most recent call last)",
            "\u001b[0;32m<ipython-input-18-0f87d5a4015f>\u001b[0m in \u001b[0;36m<cell line: 2>\u001b[0;34m()\u001b[0m\n\u001b[1;32m      1\u001b[0m \u001b[0ma\u001b[0m\u001b[0;34m=\u001b[0m\u001b[0;34m{\u001b[0m\u001b[0;34m'Aurn'\u001b[0m\u001b[0;34m,\u001b[0m \u001b[0;34m'Nikhil'\u001b[0m\u001b[0;34m,\u001b[0m \u001b[0;34m'Seeta'\u001b[0m\u001b[0;34m}\u001b[0m\u001b[0;34m\u001b[0m\u001b[0;34m\u001b[0m\u001b[0m\n\u001b[0;32m----> 2\u001b[0;31m \u001b[0ma\u001b[0m\u001b[0;34m[\u001b[0m\u001b[0;36m0\u001b[0m\u001b[0;34m]\u001b[0m\u001b[0;34m=\u001b[0m \u001b[0;34m'Arun'\u001b[0m\u001b[0;34m\u001b[0m\u001b[0;34m\u001b[0m\u001b[0m\n\u001b[0m\u001b[1;32m      3\u001b[0m \u001b[0mprint\u001b[0m\u001b[0;34m(\u001b[0m\u001b[0ma\u001b[0m\u001b[0;34m)\u001b[0m\u001b[0;34m\u001b[0m\u001b[0;34m\u001b[0m\u001b[0m\n",
            "\u001b[0;31mTypeError\u001b[0m: 'set' object does not support item assignment"
          ]
        }
      ]
    },
    {
      "cell_type": "markdown",
      "source": [
        "Tuple"
      ],
      "metadata": {
        "id": "l9fmoCWTiqnx"
      }
    },
    {
      "cell_type": "code",
      "source": [
        "elements = (10, 20, 30, 40, 50, 60, 70, 80)\n",
        "print(elements[2:5], elements[:4], elements[3:100])\n"
      ],
      "metadata": {
        "colab": {
          "base_uri": "https://localhost:8080/"
        },
        "id": "SPPQr2dbilW0",
        "outputId": "d62d8c21-38fc-4a77-814d-11563fa288f7"
      },
      "execution_count": 19,
      "outputs": [
        {
          "output_type": "stream",
          "name": "stdout",
          "text": [
            "(30, 40, 50) (10, 20, 30, 40) (40, 50, 60, 70, 80)\n"
          ]
        }
      ]
    }
  ]
}