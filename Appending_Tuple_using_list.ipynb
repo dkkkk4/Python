{
  "nbformat": 4,
  "nbformat_minor": 0,
  "metadata": {
    "colab": {
      "provenance": [],
      "mount_file_id": "1fDgxWVXdBDjPYGkTsFhWoraQuA3hqjd8",
      "authorship_tag": "ABX9TyMZ8RYUzfWTYZ8CkI2qx55y",
      "include_colab_link": true
    },
    "kernelspec": {
      "name": "python3",
      "display_name": "Python 3"
    },
    "language_info": {
      "name": "python"
    }
  },
  "cells": [
    {
      "cell_type": "markdown",
      "metadata": {
        "id": "view-in-github",
        "colab_type": "text"
      },
      "source": [
        "<a href=\"https://colab.research.google.com/github/dkkkk4/Python/blob/main/Appending_Tuple_using_list.ipynb\" target=\"_parent\"><img src=\"https://colab.research.google.com/assets/colab-badge.svg\" alt=\"Open In Colab\"/></a>"
      ]
    },
    {
      "cell_type": "code",
      "execution_count": 7,
      "metadata": {
        "id": "LVnAaWBZJYcj"
      },
      "outputs": [],
      "source": [
        "list1 = ['Deepak', 'Sachin']\n"
      ]
    },
    {
      "cell_type": "code",
      "source": [
        "tuple1 = ('Hello', 56, list1)\n"
      ],
      "metadata": {
        "id": "CIiaGpEDUp-D"
      },
      "execution_count": 8,
      "outputs": []
    },
    {
      "cell_type": "code",
      "source": [
        "print(tuple1)"
      ],
      "metadata": {
        "colab": {
          "base_uri": "https://localhost:8080/"
        },
        "id": "gwxIGon0Ut6a",
        "outputId": "5b1ce78d-4fe0-4ced-cb85-afe74433b949"
      },
      "execution_count": 9,
      "outputs": [
        {
          "output_type": "stream",
          "name": "stdout",
          "text": [
            "('Hello', 56, ['Deepak', 'Sachin'])\n"
          ]
        }
      ]
    },
    {
      "cell_type": "code",
      "source": [
        "list1.append('Pankaj')"
      ],
      "metadata": {
        "id": "lo9RodLtUy0P"
      },
      "execution_count": 10,
      "outputs": []
    },
    {
      "cell_type": "code",
      "source": [
        " tuple1"
      ],
      "metadata": {
        "id": "00OHqiqIU1DE",
        "outputId": "6c4e8945-7de6-4457-bc3b-8d2ff1f50779",
        "colab": {
          "base_uri": "https://localhost:8080/"
        }
      },
      "execution_count": 11,
      "outputs": [
        {
          "output_type": "execute_result",
          "data": {
            "text/plain": [
              "('Hello', 56, ['Deepak', 'Sachin', 'Pankaj'])"
            ]
          },
          "metadata": {},
          "execution_count": 11
        }
      ]
    }
  ]
}