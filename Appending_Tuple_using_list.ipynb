{
  "nbformat": 4,
  "nbformat_minor": 0,
  "metadata": {
    "colab": {
      "provenance": [],
      "mount_file_id": "1fDgxWVXdBDjPYGkTsFhWoraQuA3hqjd8",
      "authorship_tag": "ABX9TyO4sPAGWoylLhFimtXQuM1v",
      "include_colab_link": true
    },
    "kernelspec": {
      "name": "python3",
      "display_name": "Python 3"
    },
    "language_info": {
      "name": "python"
    }
  },
  "cells": [
    {
      "cell_type": "markdown",
      "metadata": {
        "id": "view-in-github",
        "colab_type": "text"
      },
      "source": [
        "<a href=\"https://colab.research.google.com/github/dkkkk4/Python/blob/main/Appending_Tuple_using_list.ipynb\" target=\"_parent\"><img src=\"https://colab.research.google.com/assets/colab-badge.svg\" alt=\"Open In Colab\"/></a>"
      ]
    },
    {
      "cell_type": "code",
      "execution_count": 6,
      "metadata": {
        "colab": {
          "base_uri": "https://localhost:8080/"
        },
        "id": "LVnAaWBZJYcj",
        "outputId": "37d177cb-6e50-439d-8a06-bc142e39805c"
      },
      "outputs": [
        {
          "output_type": "stream",
          "name": "stdout",
          "text": [
            "('Hello', 56, ['Deepak', 'Sachin'])\n"
          ]
        },
        {
          "output_type": "execute_result",
          "data": {
            "text/plain": [
              "('Hello', 56, ['Deepak', 'Sachin', 'Pankaj'])"
            ]
          },
          "metadata": {},
          "execution_count": 6
        }
      ],
      "source": [
        "list1 = ['Deepak', 'Sachin']\n",
        "tuple1 = ('Hello', 56, list1)\n",
        "print(tuple1)\n",
        "list1.append('Pankaj')\n",
        "tuple1"
      ]
    }
  ]
}