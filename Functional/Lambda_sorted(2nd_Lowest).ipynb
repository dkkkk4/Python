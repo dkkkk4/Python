{
  "nbformat": 4,
  "nbformat_minor": 0,
  "metadata": {
    "colab": {
      "provenance": [],
      "authorship_tag": "ABX9TyOBLiqtSfWzcdanvCLbnCy1",
      "include_colab_link": true
    },
    "kernelspec": {
      "name": "python3",
      "display_name": "Python 3"
    },
    "language_info": {
      "name": "python"
    }
  },
  "cells": [
    {
      "cell_type": "markdown",
      "metadata": {
        "id": "view-in-github",
        "colab_type": "text"
      },
      "source": [
        "<a href=\"https://colab.research.google.com/github/dkkkk4/Python/blob/main/Functional/Lambda_sorted(2nd_Lowest).ipynb\" target=\"_parent\"><img src=\"https://colab.research.google.com/assets/colab-badge.svg\" alt=\"Open In Colab\"/></a>"
      ]
    },
    {
      "cell_type": "code",
      "execution_count": null,
      "metadata": {
        "colab": {
          "base_uri": "https://localhost:8080/"
        },
        "id": "ngRHKThbWaap",
        "outputId": "ef88bc3d-9178-4899-dd81-2864d652aef8"
      },
      "outputs": [
        {
          "output_type": "execute_result",
          "data": {
            "text/plain": [
              "([['S ROY', 1], ['B BOSE', 3], ['N KAR', 2], ['C DUTTA', 1], ['G GHOSH', 1]],\n",
              " 2.0,\n",
              " [])"
            ]
          },
          "metadata": {},
          "execution_count": 6
        }
      ],
      "source": [
        "def second_lowest(students, scores):\n",
        "    '''\n",
        "    input:\n",
        "    students -> a list of students\n",
        "    scores -> list of the scores, with each score being that of the ith student\n",
        "\n",
        "    output:\n",
        "    student_data -> 2d list of data, with each inner list having name of student as 1st and score of 2nd as second element respectively\n",
        "    second_low_score -> the second lowest score\n",
        "    second_names -> list of students with score same as second lowest score, in the same order as in the students list\n",
        "    '''\n",
        "\n",
        "    student_data = []\n",
        "    second_low_score = None\n",
        "    second_names = []\n",
        "    # Your code starts here\n",
        "\n",
        "    for i in range(len(students)):\n",
        "        temp = []\n",
        "        temp.append(students[i])\n",
        "        temp.append(scores[i])\n",
        "        student_data.append(temp)\n",
        "\n",
        "    second_low_score = float(sorted(set(scores))[1])\n",
        "\n",
        "    # Your code ends here\n",
        "    return student_data, second_low_score, second_names\n",
        "\n",
        "students = ['S ROY', 'B BOSE', 'N KAR', 'C DUTTA', 'G GHOSH']\n",
        "scores = [1, 3, 2, 1, 1]\n",
        "second_lowest(students, scores)"
      ]
    },
    {
      "cell_type": "code",
      "source": [
        "heights = [110, 125, 142, 168, 186]\n",
        "list(map(lambda x: \"S\"if x<150 else \"M\" if x>=150 and x<180 else \"L\" ,heights))"
      ],
      "metadata": {
        "colab": {
          "base_uri": "https://localhost:8080/"
        },
        "id": "s6a_UVJMwsRW",
        "outputId": "41884536-f26e-44af-e171-3c22f727c01d"
      },
      "execution_count": null,
      "outputs": [
        {
          "output_type": "execute_result",
          "data": {
            "text/plain": [
              "['S', 'S', 'S', 'M', 'L']"
            ]
          },
          "metadata": {},
          "execution_count": 5
        }
      ]
    }
  ]
}