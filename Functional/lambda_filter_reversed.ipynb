{
  "nbformat": 4,
  "nbformat_minor": 0,
  "metadata": {
    "colab": {
      "provenance": [],
      "authorship_tag": "ABX9TyMYH4cfogpwNmCL/gJtYzx0",
      "include_colab_link": true
    },
    "kernelspec": {
      "name": "python3",
      "display_name": "Python 3"
    },
    "language_info": {
      "name": "python"
    }
  },
  "cells": [
    {
      "cell_type": "markdown",
      "metadata": {
        "id": "view-in-github",
        "colab_type": "text"
      },
      "source": [
        "<a href=\"https://colab.research.google.com/github/dkkkk4/Python/blob/main/Functional/lambda_filter_reversed.ipynb\" target=\"_parent\"><img src=\"https://colab.research.google.com/assets/colab-badge.svg\" alt=\"Open In Colab\"/></a>"
      ]
    },
    {
      "cell_type": "code",
      "execution_count": null,
      "metadata": {
        "colab": {
          "base_uri": "https://localhost:8080/"
        },
        "id": "SetNJJFcKKyF",
        "outputId": "95eea950-4e96-46fd-a83c-84066347de4b"
      },
      "outputs": [
        {
          "output_type": "execute_result",
          "data": {
            "text/plain": [
              "['php', 'aaa']"
            ]
          },
          "metadata": {},
          "execution_count": 2
        }
      ],
      "source": [
        "arr = [\"php\", \"w3r\", \"python\", \"aaa\", \"java\"]\n",
        "result  = list( filter( lambda x: (x ==\"\".join( reversed(x))), arr))\n",
        "result"
      ]
    },
    {
      "cell_type": "code",
      "source": [
        "odd=lambda x: bool(x%2)\n",
        "result=[n for n in range(10)]\n",
        "\n",
        "for i in result:\n",
        "    if odd(i):\n",
        "        continue\n",
        "    else:\n",
        "        print(i, end=\" \")"
      ],
      "metadata": {
        "id": "sXZrZFxv8nK0",
        "outputId": "c534f064-ec70-4199-9251-16a25cf1b9a1",
        "colab": {
          "base_uri": "https://localhost:8080/"
        }
      },
      "execution_count": null,
      "outputs": [
        {
          "output_type": "stream",
          "name": "stdout",
          "text": [
            "0 2 4 6 8 "
          ]
        }
      ]
    }
  ]
}