{
  "nbformat": 4,
  "nbformat_minor": 0,
  "metadata": {
    "colab": {
      "provenance": [],
      "authorship_tag": "ABX9TyPb54HtfdvYty58I3OHTFqe",
      "include_colab_link": true
    },
    "kernelspec": {
      "name": "python3",
      "display_name": "Python 3"
    },
    "language_info": {
      "name": "python"
    }
  },
  "cells": [
    {
      "cell_type": "markdown",
      "metadata": {
        "id": "view-in-github",
        "colab_type": "text"
      },
      "source": [
        "<a href=\"https://colab.research.google.com/github/dkkkk4/Python/blob/main/Functional/Zip_Filter_Map_Reduce.ipynb\" target=\"_parent\"><img src=\"https://colab.research.google.com/assets/colab-badge.svg\" alt=\"Open In Colab\"/></a>"
      ]
    },
    {
      "cell_type": "markdown",
      "source": [
        "# **map()**"
      ],
      "metadata": {
        "id": "Mf7JGQZ7x9s8"
      }
    },
    {
      "cell_type": "code",
      "source": [
        "students = ['S ROY', 'B BOSE', 'N KAR', 'C DUTTA','G-GHOSH']\n",
        "scores = [1, 3, 2, 1,1]\n",
        "student_data = list(map(lambda x,y : [x, y], students,scores))\n",
        "student_data"
      ],
      "metadata": {
        "id": "45qWxLM5x8gG",
        "outputId": "34de5787-b1b3-4cee-ecfb-259386765f69",
        "colab": {
          "base_uri": "https://localhost:8080/"
        }
      },
      "execution_count": 7,
      "outputs": [
        {
          "output_type": "execute_result",
          "data": {
            "text/plain": [
              "[['S ROY', 1], ['B BOSE', 3], ['N KAR', 2], ['C DUTTA', 1], ['G-GHOSH', 1]]"
            ]
          },
          "metadata": {},
          "execution_count": 7
        }
      ]
    },
    {
      "cell_type": "markdown",
      "source": [
        "# **zip()**"
      ],
      "metadata": {
        "id": "tXT16vLYCiZW"
      }
    },
    {
      "cell_type": "code",
      "execution_count": null,
      "metadata": {
        "colab": {
          "base_uri": "https://localhost:8080/"
        },
        "id": "68HrPw66540X",
        "outputId": "6a15c9e6-173d-41fb-e0f0-8f726b82b5b2"
      },
      "outputs": [
        {
          "output_type": "stream",
          "name": "stdout",
          "text": [
            "{'name': 'Alice', 'salary': 180000, 'job': 'data scientist'}\n",
            "{'name': 'Bob', 'salary': 99000, 'job': 'data engineer'}\n",
            "{'name': 'Frank', 'salary': 87000, 'job': 'data analyst'}\n"
          ]
        }
      ],
      "source": [
        "column_names = ['name', 'salary', 'job']\n",
        "db_rows = [('Alice', 180000, 'data scientist'),\n",
        "           ('Bob', 99000, 'data engineer'),\n",
        "           ('Frank', 87000, 'data analyst')]\n",
        "\n",
        "db = [dict(zip(column_names,row)) for row in db_rows]\n",
        "\n",
        "for i in db:\n",
        "  print(i)"
      ]
    },
    {
      "cell_type": "code",
      "source": [
        "list1 = [[1,2,3],[4,5,6],[7,8,9]]\n",
        "list2 = [[9,8,7],[6,5,4],[3,2,1]]\n",
        "ls11,ls12,ls13=list1\n",
        "ls21,ls22,ls23=list2\n",
        "print(list(zip(ls11,ls12,ls13,ls21,ls22,ls23)))"
      ],
      "metadata": {
        "colab": {
          "base_uri": "https://localhost:8080/"
        },
        "id": "ciDDLODUDVnO",
        "outputId": "8e3df621-e420-40ad-fb0d-00fc552e9754"
      },
      "execution_count": null,
      "outputs": [
        {
          "output_type": "stream",
          "name": "stdout",
          "text": [
            "[(1, 4, 7, 9, 6, 3), (2, 5, 8, 8, 5, 2), (3, 6, 9, 7, 4, 1)]\n"
          ]
        }
      ]
    },
    {
      "cell_type": "markdown",
      "source": [
        "# **filter()**"
      ],
      "metadata": {
        "id": "WtVVY-8jCpWK"
      }
    },
    {
      "cell_type": "code",
      "source": [
        "def isPalindrome(my_list):\n",
        "\n",
        "  palindromes = list(filter(lambda word: word==word[::-1],my_list))  #filter(function, iterable)\n",
        "\n",
        "  return palindromes\n",
        "\n",
        "lst = ['aab', 'efe', 'tfg', 'madam', 'rotar']\n",
        "isPalindrome(lst)"
      ],
      "metadata": {
        "colab": {
          "base_uri": "https://localhost:8080/"
        },
        "id": "0dRnYktW6y5s",
        "outputId": "0cc4b156-1584-479f-b012-c21a36c4bc70"
      },
      "execution_count": null,
      "outputs": [
        {
          "output_type": "execute_result",
          "data": {
            "text/plain": [
              "['efe', 'madam']"
            ]
          },
          "metadata": {},
          "execution_count": 9
        }
      ]
    },
    {
      "cell_type": "markdown",
      "source": [
        "# **Filter/reduce/map**"
      ],
      "metadata": {
        "id": "E83HWBMCGyCg"
      }
    },
    {
      "cell_type": "code",
      "source": [
        "from functools import reduce\n",
        "def func(integers, names, numbers):\n",
        "    '''\n",
        "    input:\n",
        "    integers -> list of integers to perform the square operation on\n",
        "    names -> list of names to filter out as per the condition\n",
        "    numbers -> list of numbers whose product we want\n",
        "\n",
        "    output:\n",
        "    map_result -> output of integers list\n",
        "    (Use map() to return the list of the squares of each number.)\n",
        "\n",
        "    filter_result -> output of the names lsit\n",
        "    (Use filter() to return the list with only those names that have less than or equal to seven letters.)\n",
        "\n",
        "    reduce_result -> output of the numbers list\n",
        "    Use reduce() to return the product of elements of list numbers.\n",
        "    '''\n",
        "    map_result, filter_result, reduce_result = None, None, None\n",
        "\n",
        "    # Your code stars here\n",
        "    map_result = list(map(lambda x:x**2, integers))\n",
        "\n",
        "    filter_result = list(filter(lambda word: len(word)<=7, names))\n",
        "\n",
        "    reduce_result = reduce(lambda x,y:x*y,numbers)\n",
        "\n",
        "    # Your code ends here\n",
        "\n",
        "    return map_result, filter_result, reduce_result\n",
        "\n",
        "integers = [4, 6, 3, 9, 2, 8, 12]\n",
        "names = ['Python', 'Data Science', 'rishabh', 'student', 'force']\n",
        "numbers = [4, 6, 9, 23, 5]\n",
        "func(integers, names, numbers)"
      ],
      "metadata": {
        "colab": {
          "base_uri": "https://localhost:8080/"
        },
        "id": "hIIPbyntGw7b",
        "outputId": "2b2f662b-2989-4ed8-d2aa-c8f26b648b5d"
      },
      "execution_count": null,
      "outputs": [
        {
          "output_type": "execute_result",
          "data": {
            "text/plain": [
              "([16, 36, 9, 81, 4, 64, 144], ['Python', 'rishabh', 'student', 'force'], 24840)"
            ]
          },
          "metadata": {},
          "execution_count": 11
        }
      ]
    },
    {
      "cell_type": "markdown",
      "source": [],
      "metadata": {
        "id": "fDT7lD73hpYf"
      }
    },
    {
      "cell_type": "code",
      "source": [],
      "metadata": {
        "id": "FTIZ02CWuiYM"
      },
      "execution_count": null,
      "outputs": []
    }
  ]
}