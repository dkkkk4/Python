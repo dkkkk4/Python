{
  "nbformat": 4,
  "nbformat_minor": 0,
  "metadata": {
    "colab": {
      "provenance": [],
      "authorship_tag": "ABX9TyNazS4TbXixwIhKf/Hnus+a",
      "include_colab_link": true
    },
    "kernelspec": {
      "name": "python3",
      "display_name": "Python 3"
    },
    "language_info": {
      "name": "python"
    }
  },
  "cells": [
    {
      "cell_type": "markdown",
      "metadata": {
        "id": "view-in-github",
        "colab_type": "text"
      },
      "source": [
        "<a href=\"https://colab.research.google.com/github/dkkkk4/Python/blob/main/Functional/FunctionalProgrammingExercise.ipynb\" target=\"_parent\"><img src=\"https://colab.research.google.com/assets/colab-badge.svg\" alt=\"Open In Colab\"/></a>"
      ]
    },
    {
      "cell_type": "code",
      "execution_count": null,
      "metadata": {
        "colab": {
          "base_uri": "https://localhost:8080/"
        },
        "id": "3Z_dtow1i_Ll",
        "outputId": "f1f946d8-8314-402a-8510-2a445909db5a"
      },
      "outputs": [
        {
          "output_type": "stream",
          "name": "stdout",
          "text": [
            "500$\n"
          ]
        }
      ],
      "source": [
        "def myDecorator(func):\n",
        "\n",
        "    def new_func(n):\n",
        "\n",
        "        return func(n) + '$'\n",
        "\n",
        "    return new_func\n",
        "\n",
        "\n",
        "@myDecorator\n",
        "\n",
        "def myFunction(a):\n",
        "\n",
        "    return(a)\n",
        "\n",
        "\n",
        "# call the decorated function\n",
        "\n",
        "print(myFunction('500'))"
      ]
    },
    {
      "cell_type": "code",
      "source": [
        "a=[1,[2,3],4,5]\n",
        "result = lambda x: list(map(lambda y:2*y, x)) if isinstance(x,list) else lambda x:3*x\n",
        "print(result(a))"
      ],
      "metadata": {
        "colab": {
          "base_uri": "https://localhost:8080/"
        },
        "id": "hPKoFBAZqk2U",
        "outputId": "c0d1a845-96dd-4887-d1eb-3dba0055be4a"
      },
      "execution_count": null,
      "outputs": [
        {
          "output_type": "stream",
          "name": "stdout",
          "text": [
            "[2, [2, 3, 2, 3], 8, 10]\n"
          ]
        }
      ]
    },
    {
      "cell_type": "code",
      "source": [
        "ids = [\"SAM@gmail.com\", \"Ram@gmail.com\", \"sam@gmail.com\", \"samJohnson@iit.com\", \"SAM@harvard.com\"]\n",
        "name = \"sam\"\n",
        "result = list(filter(lambda x : name.lower() or name.upper() in x, ids))\n",
        "print(result)"
      ],
      "metadata": {
        "colab": {
          "base_uri": "https://localhost:8080/"
        },
        "id": "fecOH6jjrWu0",
        "outputId": "dbc90da9-3981-4023-d562-32736baeacc1"
      },
      "execution_count": null,
      "outputs": [
        {
          "output_type": "stream",
          "name": "stdout",
          "text": [
            "['SAM@gmail.com', 'Ram@gmail.com', 'sam@gmail.com', 'samJohnson@iit.com', 'SAM@harvard.com']\n"
          ]
        }
      ]
    }
  ]
}