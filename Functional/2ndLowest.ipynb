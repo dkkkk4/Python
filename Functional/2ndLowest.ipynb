{
  "nbformat": 4,
  "nbformat_minor": 0,
  "metadata": {
    "colab": {
      "provenance": [],
      "authorship_tag": "ABX9TyP/3DDFxKsZbU4K2+pmJ8Qn",
      "include_colab_link": true
    },
    "kernelspec": {
      "name": "python3",
      "display_name": "Python 3"
    },
    "language_info": {
      "name": "python"
    }
  },
  "cells": [
    {
      "cell_type": "markdown",
      "metadata": {
        "id": "view-in-github",
        "colab_type": "text"
      },
      "source": [
        "<a href=\"https://colab.research.google.com/github/dkkkk4/Python/blob/main/Functional/2ndLowest.ipynb\" target=\"_parent\"><img src=\"https://colab.research.google.com/assets/colab-badge.svg\" alt=\"Open In Colab\"/></a>"
      ]
    },
    {
      "cell_type": "code",
      "execution_count": 5,
      "metadata": {
        "colab": {
          "base_uri": "https://localhost:8080/"
        },
        "id": "RToCdwM8mmd1",
        "outputId": "cf98218d-707c-4c92-ad24-24e7c2bb25e9"
      },
      "outputs": [
        {
          "output_type": "execute_result",
          "data": {
            "text/plain": [
              "([['S ROY', 1], ['B BOSE', 3], ['N KAR', 2], ['C DUTTA', 1], ['G GHOSH', 1]],\n",
              " 2.0,\n",
              " ['N KAR'])"
            ]
          },
          "metadata": {},
          "execution_count": 5
        }
      ],
      "source": [
        "def second_lowest(students, scores):\n",
        "    '''\n",
        "    input:\n",
        "    students -> a list of students\n",
        "    scores -> list of the scores, with each score being that of the ith student\n",
        "\n",
        "    output:\n",
        "    student_data -> 2d list of data, with each inner list having name of student as 1st and score of 2nd as second element respectively\n",
        "    second_low_score -> the second lowest score\n",
        "    second_names -> list of students with score same as second lowest score, in the same order as in the students list\n",
        "    '''\n",
        "    student_data = None\n",
        "    student_data = list(map(lambda x,y : [x, y], students, scores))\n",
        "    student_data\n",
        "\n",
        "    second_low_score = float(sorted(set(scores))[1])\n",
        "\n",
        "    required_data = list(filter(lambda x: x[1] == second_low_score,student_data))\n",
        "\n",
        "    second_names=[x[0] for x in student_data if x[1] == second_low_score]\n",
        "\n",
        "    return student_data, second_low_score, second_names   #returns a tuple\n",
        "\n",
        "students = ['S ROY', 'B BOSE', 'N KAR', 'C DUTTA', 'G GHOSH']\n",
        "scores = [1, 3, 2, 1, 1]\n",
        "second_lowest(students, scores)"
      ]
    }
  ]
}