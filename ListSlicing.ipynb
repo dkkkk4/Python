{
  "nbformat": 4,
  "nbformat_minor": 0,
  "metadata": {
    "colab": {
      "provenance": [],
      "authorship_tag": "ABX9TyMe/Sgi/MOUtMuznZqceXAv",
      "include_colab_link": true
    },
    "kernelspec": {
      "name": "python3",
      "display_name": "Python 3"
    },
    "language_info": {
      "name": "python"
    }
  },
  "cells": [
    {
      "cell_type": "markdown",
      "metadata": {
        "id": "view-in-github",
        "colab_type": "text"
      },
      "source": [
        "<a href=\"https://colab.research.google.com/github/dkkkk4/Python/blob/main/ListSlicing.ipynb\" target=\"_parent\"><img src=\"https://colab.research.google.com/assets/colab-badge.svg\" alt=\"Open In Colab\"/></a>"
      ]
    },
    {
      "cell_type": "code",
      "execution_count": null,
      "metadata": {
        "id": "yU5boAkhPhEl"
      },
      "outputs": [],
      "source": [
        "list = [45, 86, 89, 54, 63, 20, 75, 75, 336]"
      ]
    },
    {
      "cell_type": "code",
      "source": [
        "list"
      ],
      "metadata": {
        "colab": {
          "base_uri": "https://localhost:8080/"
        },
        "id": "RxjOH8IMlAcG",
        "outputId": "2d684c13-6a57-4efd-b04e-5c33488f3ddf"
      },
      "execution_count": null,
      "outputs": [
        {
          "output_type": "execute_result",
          "data": {
            "text/plain": [
              "[45, 86, 89, 54, 63, 20, 75, 75, 336]"
            ]
          },
          "metadata": {},
          "execution_count": 3
        }
      ]
    },
    {
      "cell_type": "code",
      "source": [
        "list[0:9:1]"
      ],
      "metadata": {
        "colab": {
          "base_uri": "https://localhost:8080/"
        },
        "id": "9wO2X__KlCW-",
        "outputId": "50c1a561-4f90-4d08-86ab-d09e6089c7df"
      },
      "execution_count": null,
      "outputs": [
        {
          "output_type": "execute_result",
          "data": {
            "text/plain": [
              "[45, 86, 89, 54, 63, 20, 75, 75, 336]"
            ]
          },
          "metadata": {},
          "execution_count": 4
        }
      ]
    },
    {
      "cell_type": "code",
      "source": [
        "list[0:9]"
      ],
      "metadata": {
        "colab": {
          "base_uri": "https://localhost:8080/"
        },
        "id": "Z7tFpFhUlG4D",
        "outputId": "8716b22b-ae57-4b5b-934a-6ef27535d093"
      },
      "execution_count": null,
      "outputs": [
        {
          "output_type": "execute_result",
          "data": {
            "text/plain": [
              "[45, 86, 89, 54, 63, 20, 75, 75, 336]"
            ]
          },
          "metadata": {},
          "execution_count": 5
        }
      ]
    },
    {
      "cell_type": "code",
      "source": [
        "list[:9]"
      ],
      "metadata": {
        "colab": {
          "base_uri": "https://localhost:8080/"
        },
        "id": "zUTDkOLElLOP",
        "outputId": "8c24fdb8-bcba-48db-fb6e-20a722d7787e"
      },
      "execution_count": null,
      "outputs": [
        {
          "output_type": "execute_result",
          "data": {
            "text/plain": [
              "[45, 86, 89, 54, 63, 20, 75, 75, 336]"
            ]
          },
          "metadata": {},
          "execution_count": 6
        }
      ]
    },
    {
      "cell_type": "code",
      "source": [
        "list[:]"
      ],
      "metadata": {
        "colab": {
          "base_uri": "https://localhost:8080/"
        },
        "id": "QX6MFbC9lN7F",
        "outputId": "deb53963-5e03-4d48-957d-61131ebaa539"
      },
      "execution_count": null,
      "outputs": [
        {
          "output_type": "execute_result",
          "data": {
            "text/plain": [
              "[45, 86, 89, 54, 63, 20, 75, 75, 336]"
            ]
          },
          "metadata": {},
          "execution_count": 7
        }
      ]
    },
    {
      "cell_type": "code",
      "source": [
        "list[3:]"
      ],
      "metadata": {
        "colab": {
          "base_uri": "https://localhost:8080/"
        },
        "id": "MiolMDSRlQFI",
        "outputId": "d978d079-d99f-438d-edb3-be3ab0946fca"
      },
      "execution_count": null,
      "outputs": [
        {
          "output_type": "execute_result",
          "data": {
            "text/plain": [
              "[54, 63, 20, 75, 75, 336]"
            ]
          },
          "metadata": {},
          "execution_count": 8
        }
      ]
    },
    {
      "cell_type": "code",
      "source": [
        "list[:-5]"
      ],
      "metadata": {
        "colab": {
          "base_uri": "https://localhost:8080/"
        },
        "id": "BClI9gIDmjm2",
        "outputId": "4a077d68-a77e-42d9-8d20-8da819d4462b"
      },
      "execution_count": null,
      "outputs": [
        {
          "output_type": "execute_result",
          "data": {
            "text/plain": [
              "[45, 86, 89, 54]"
            ]
          },
          "metadata": {},
          "execution_count": 9
        }
      ]
    },
    {
      "cell_type": "markdown",
      "source": [
        "## Reverse"
      ],
      "metadata": {
        "id": "_jyjW8K-qYWt"
      }
    },
    {
      "cell_type": "code",
      "source": [
        "list[-1:-10:-1]"
      ],
      "metadata": {
        "colab": {
          "base_uri": "https://localhost:8080/"
        },
        "id": "KU5IcCgvnO6I",
        "outputId": "e218fd38-a0bc-4730-83d6-28654ef3e120"
      },
      "execution_count": null,
      "outputs": [
        {
          "output_type": "execute_result",
          "data": {
            "text/plain": [
              "[336, 75, 75, 20, 63, 54, 89, 86, 45]"
            ]
          },
          "metadata": {},
          "execution_count": 12
        }
      ]
    },
    {
      "cell_type": "code",
      "source": [
        "list[::-1]"
      ],
      "metadata": {
        "colab": {
          "base_uri": "https://localhost:8080/"
        },
        "id": "xAzwmNb5qygM",
        "outputId": "f1f3051e-3ec1-41cf-9e38-8cadcdf9450b"
      },
      "execution_count": null,
      "outputs": [
        {
          "output_type": "execute_result",
          "data": {
            "text/plain": [
              "[336, 75, 75, 20, 63, 54, 89, 86, 45]"
            ]
          },
          "metadata": {},
          "execution_count": 13
        }
      ]
    },
    {
      "cell_type": "code",
      "source": [
        "list[::-2]"
      ],
      "metadata": {
        "colab": {
          "base_uri": "https://localhost:8080/"
        },
        "id": "AiW_OLRZs_y0",
        "outputId": "3e3e75b1-2aa5-471e-9619-f8ad9951bb71"
      },
      "execution_count": null,
      "outputs": [
        {
          "output_type": "execute_result",
          "data": {
            "text/plain": [
              "[336, 75, 63, 89, 45]"
            ]
          },
          "metadata": {},
          "execution_count": 14
        }
      ]
    },
    {
      "cell_type": "markdown",
      "source": [
        "## **Intresting memory assignment**\n",
        "\n",
        "> Indented block\n",
        "\n"
      ],
      "metadata": {
        "id": "iTyxHqsB2Sy1"
      }
    },
    {
      "cell_type": "code",
      "source": [
        "a = [15, 8, 7, 9]\n",
        "b = a\n",
        "a.sort()\n",
        "print(b)"
      ],
      "metadata": {
        "colab": {
          "base_uri": "https://localhost:8080/"
        },
        "id": "hVCzRvD5wxgf",
        "outputId": "3bfbbb55-3f38-46ec-adba-11ee3981f652"
      },
      "execution_count": null,
      "outputs": [
        {
          "output_type": "stream",
          "name": "stdout",
          "text": [
            "[7, 8, 9, 15]\n"
          ]
        }
      ]
    },
    {
      "cell_type": "markdown",
      "source": [
        "![list.PNG](data:image/png;base64,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)"
      ],
      "metadata": {
        "id": "Ne5sVt9_11dD"
      }
    },
    {
      "cell_type": "code",
      "source": [
        "a = [15, 8, 7, 9]\n",
        "b = a[:]\n",
        "a.sort()\n",
        "print(b)"
      ],
      "metadata": {
        "colab": {
          "base_uri": "https://localhost:8080/"
        },
        "id": "w3DK4lvd0C9-",
        "outputId": "a83ec549-577e-43c9-82a5-abaf05ce186a"
      },
      "execution_count": 24,
      "outputs": [
        {
          "output_type": "stream",
          "name": "stdout",
          "text": [
            "[15, 8, 7, 9]\n"
          ]
        }
      ]
    },
    {
      "cell_type": "markdown",
      "source": [
        "![list2.PNG](data:image/png;base64,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)"
      ],
      "metadata": {
        "id": "JJuBJRg5wvdc"
      }
    },
    {
      "cell_type": "markdown",
      "source": [
        ",."
      ],
      "metadata": {
        "id": "TJs3dkBb2A0N"
      }
    }
  ]
}