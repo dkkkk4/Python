{
  "nbformat": 4,
  "nbformat_minor": 0,
  "metadata": {
    "colab": {
      "provenance": [],
      "authorship_tag": "ABX9TyPvSJWRnfd4octo3H7B3k7m"
    },
    "kernelspec": {
      "name": "python3",
      "display_name": "Python 3"
    },
    "language_info": {
      "name": "python"
    }
  },
  "cells": [
    {
      "cell_type": "code",
      "source": [
        "[![Open in COlab](https://colab.research.google.com/assets/colab-badge.svg)](https://colab.research.google.com/github/dkkkk4/Python/blob/main/List_functions1.ipynb)"
      ],
      "metadata": {
        "id": "QrWHvL037G-3"
      },
      "execution_count": null,
      "outputs": []
    },
    {
      "cell_type": "code",
      "execution_count": null,
      "metadata": {
        "colab": {
          "base_uri": "https://localhost:8080/"
        },
        "id": "0IUYT9BaEDSg",
        "outputId": "c827f11c-1fa1-49cf-bcdd-b8e5f1f3c6b7"
      },
      "outputs": [
        {
          "output_type": "stream",
          "name": "stdout",
          "text": [
            "Enter the elements with space :- 12 56 47 89 10 45\n",
            "Enter an element to append :- 789\n",
            "The list is : - [12, 56, 47, 89, 10, 45, 789]\n",
            "Enter the position where element is to be inserted :- 3\n",
            "Enter the element :- 548\n",
            "The list after new insertion :-  [12, 56, 548, 47, 89, 10, 45, 789]\n",
            "The list after pop :-  [12, 56, 548, 47, 89, 10, 45]\n",
            "The list after pop at index:-  [12, 56, 47, 89, 10, 45]\n",
            "The list after removing 10 :-  [12, 56, 47, 89, 45]\n"
          ]
        }
      ],
      "source": [
        "list1 = []\n",
        "\n",
        "a=input(\"Enter the elements with space :- \")\n",
        "list1 = list(map(int, a.split()))\n",
        "\n",
        "b = int(input(\"Enter an element to append :- \"))\n",
        "list1.append(b)          #List append()\n",
        "\n",
        "print(\"The list is : -\", list1)\n",
        "\n",
        "x=int(input(\"Enter the position where element is to be inserted :- \"))\n",
        "y=int(input(\"Enter the element :- \"))\n",
        "\n",
        "list1.insert(x-1,y)          # List insert()\n",
        "print(\"The list after new insertion :- \", list1)\n",
        "\n",
        "list1.pop()                  #LIst pop() ,default\n",
        "print(\"The list after pop :- \", list1)\n",
        "\n",
        "list1.pop(2)                  #LIst pop() ,with index\n",
        "print(\"The list after pop at index:- \", list1)\n",
        "\n",
        "list1.remove(10)              #List remove(), removes element with value as 10\n",
        "print(\"The list after removing 10 :- \", list1)\n",
        "\n",
        "#in case of duplicate values , first occurence will be removed\n",
        "\n",
        "\n"
      ]
    }
  ]
}
