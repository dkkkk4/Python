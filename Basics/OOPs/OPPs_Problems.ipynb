{
  "nbformat": 4,
  "nbformat_minor": 0,
  "metadata": {
    "colab": {
      "provenance": [],
      "authorship_tag": "ABX9TyNenXFQUuUenHIhNGAl9/Vd",
      "include_colab_link": true
    },
    "kernelspec": {
      "name": "python3",
      "display_name": "Python 3"
    },
    "language_info": {
      "name": "python"
    }
  },
  "cells": [
    {
      "cell_type": "markdown",
      "metadata": {
        "id": "view-in-github",
        "colab_type": "text"
      },
      "source": [
        "<a href=\"https://colab.research.google.com/github/dkkkk4/Python/blob/main/Basics/OOPs/OPPs_Problems.ipynb\" target=\"_parent\"><img src=\"https://colab.research.google.com/assets/colab-badge.svg\" alt=\"Open In Colab\"/></a>"
      ]
    },
    {
      "cell_type": "code",
      "execution_count": 1,
      "metadata": {
        "colab": {
          "base_uri": "https://localhost:8080/"
        },
        "id": "_t8H1LBrN8le",
        "outputId": "c8c3e23a-12b3-4ff9-dcf3-05621a55fb52"
      },
      "outputs": [
        {
          "output_type": "stream",
          "name": "stdout",
          "text": [
            "B\n"
          ]
        }
      ],
      "source": [
        "class A:\n",
        "   def one(self):\n",
        "       return self.two()\n",
        "   def two(self):\n",
        "       return 'A'\n",
        "class B(A):\n",
        "   def two(self):\n",
        "       return 'B'\n",
        "obj= B()\n",
        "print(obj.one())"
      ]
    },
    {
      "cell_type": "code",
      "source": [
        "class Parent:\n",
        "  def __init__(self):\n",
        "    pass\n",
        "  def print(self):\n",
        "    print(\"60\")\n",
        "\n",
        "class Child(Parent):\n",
        "   def __init__(self):\n",
        "    super().__init__()\n",
        "   def type(self):\n",
        "    super().print()    # This block has to be completed.\n",
        "\n",
        "C=Child()\n",
        "C.type()\n",
        "\n",
        "# Options:\n",
        "#A. ✔\n",
        "# def __init__(self):\n",
        "#   super().__init__()\n",
        "# def type(self):\n",
        "#   self.print()\n",
        "\n",
        "# #B.❌\n",
        "# def __init__(self):\n",
        "#   super().__init__()\n",
        "# def type(self):\n",
        "#   self().print()\n",
        "\n",
        "# #C.✔\n",
        "# def __init__(self):\n",
        "#   super().__init__()\n",
        "# def type(self):\n",
        "#   super().print()\n",
        "\n",
        "# #D.\n",
        "# None of these"
      ],
      "metadata": {
        "colab": {
          "base_uri": "https://localhost:8080/"
        },
        "id": "TGj7JJjMOn1A",
        "outputId": "2bacebcf-4355-44ec-f8e5-a9d81c3d9b52"
      },
      "execution_count": 6,
      "outputs": [
        {
          "output_type": "stream",
          "name": "stdout",
          "text": [
            "60\n"
          ]
        }
      ]
    },
    {
      "cell_type": "code",
      "source": [
        "class A:\n",
        " def __init__(self, name, sound=\"Grrrr\"):\n",
        "   self.name = name\n",
        "   self.sound = sound\n",
        "\n",
        " def make_noise(self):\n",
        "   print(\"{} says, {}\".format(self.name,self.sound))\n",
        "\n",
        "class B(A):\n",
        " def __init__(self, name=\"Rachel\"):\n",
        "   super().__init__(name, \"Meow!\")\n",
        "\n",
        " def make_noise(self,sound=\"Grrrr!\"):\n",
        "   print(\"{} says, {}\".format(self.name, sound))\n",
        "\n",
        "pet_cat = B()\n",
        "pet_cat.make_noise()"
      ],
      "metadata": {
        "colab": {
          "base_uri": "https://localhost:8080/"
        },
        "id": "ji4pgP4hlV_V",
        "outputId": "00c3345d-7e2f-4329-c898-1f9c9eb8128a"
      },
      "execution_count": 1,
      "outputs": [
        {
          "output_type": "stream",
          "name": "stdout",
          "text": [
            "Rachel says, Grrrr!\n"
          ]
        }
      ]
    },
    {
      "cell_type": "code",
      "source": [
        "class Props:\n",
        "    def __init__(self, x, y):\n",
        "        self.x = x\n",
        "        self.y = y\n",
        "\n",
        "class Ball(Props):\n",
        "    def __init__(self, x, y):\n",
        "        super().__init__(x, y)\n",
        "        self.shape = \"o\"\n",
        "        self.number = 1\n",
        "        self.vely = 0\n",
        "        self.velx = 0\n",
        "\n",
        "    def get_x(self):\n",
        "        return self.x\n",
        "\n",
        "    def get_y(self):\n",
        "       return self.y\n",
        "\n",
        "    def get_velx(self):\n",
        "       return self.velx\n",
        "\n",
        "    def get_vely(self):\n",
        "       return self.vely\n",
        "\n",
        "    def inc_velx(self):\n",
        "       self.velx = self.velx+2\n",
        "\n",
        "    def inc_vely(self):\n",
        "       self.vely = self.vely+1\n",
        "\n",
        "obj_ball = Ball(27,3)\n",
        "\n",
        "bx = obj_ball.get_x()\n",
        "by = obj_ball.get_y()\n",
        "b_velx = obj_ball.get_velx()\n",
        "b_vely = obj_ball.get_vely()\n",
        "\n",
        "print(bx, by, b_velx, b_vely)"
      ],
      "metadata": {
        "colab": {
          "base_uri": "https://localhost:8080/"
        },
        "id": "ajsr_mhImLF7",
        "outputId": "842c3179-ecd8-4cde-e1a2-d4327006ebe8"
      },
      "execution_count": 2,
      "outputs": [
        {
          "output_type": "stream",
          "name": "stdout",
          "text": [
            "27 3 0 0\n"
          ]
        }
      ]
    },
    {
      "cell_type": "code",
      "source": [
        "class A:\n",
        "    def __init__(self):\n",
        "        self.multiply(15)\n",
        "        print(self.i)\n",
        "\n",
        "    def multiply(self, i):\n",
        "        self.i = 4 * i\n",
        "\n",
        "class B(A):\n",
        "    def __init__(self):\n",
        "        super().__init__()\n",
        "\n",
        "    def multiply(self, i): #method overriding\n",
        "        self.i = 2 * i;\n",
        "\n",
        "obj = B()"
      ],
      "metadata": {
        "colab": {
          "base_uri": "https://localhost:8080/"
        },
        "id": "JpNHIBGpms8Y",
        "outputId": "f3ea3664-9ad6-4a2e-b293-c2bce728ef88"
      },
      "execution_count": 3,
      "outputs": [
        {
          "output_type": "stream",
          "name": "stdout",
          "text": [
            "30\n"
          ]
        }
      ]
    },
    {
      "cell_type": "code",
      "source": [
        "class A:\n",
        "\n",
        "  def __init__(self, x, y):\n",
        "\n",
        "    self.x = x\n",
        "    self.y = y\n",
        "\n",
        "  def __str__(self):\n",
        "\n",
        "    return 1\n",
        "  def __eq__(self, other):  #compares\n",
        "\n",
        "    return self.x * self.y == other.x * other.y\n",
        "\n",
        "obj1 = A(9, 8)\n",
        "obj2 = A(8, 9)\n",
        "print(obj1 == obj2)"
      ],
      "metadata": {
        "colab": {
          "base_uri": "https://localhost:8080/"
        },
        "id": "nyda7urWnRQq",
        "outputId": "b5c838d3-dc86-4785-fce6-9a084e1461df"
      },
      "execution_count": 4,
      "outputs": [
        {
          "output_type": "stream",
          "name": "stdout",
          "text": [
            "True\n"
          ]
        }
      ]
    }
  ]
}