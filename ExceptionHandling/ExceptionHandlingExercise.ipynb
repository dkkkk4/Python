{
  "nbformat": 4,
  "nbformat_minor": 0,
  "metadata": {
    "colab": {
      "provenance": [],
      "authorship_tag": "ABX9TyOTH6u/uwETWyb1w1+pH2mF",
      "include_colab_link": true
    },
    "kernelspec": {
      "name": "python3",
      "display_name": "Python 3"
    },
    "language_info": {
      "name": "python"
    }
  },
  "cells": [
    {
      "cell_type": "markdown",
      "metadata": {
        "id": "view-in-github",
        "colab_type": "text"
      },
      "source": [
        "<a href=\"https://colab.research.google.com/github/dkkkk4/Python/blob/main/ExceptionHandling/ExceptionHandlingExercise.ipynb\" target=\"_parent\"><img src=\"https://colab.research.google.com/assets/colab-badge.svg\" alt=\"Open In Colab\"/></a>"
      ]
    },
    {
      "cell_type": "code",
      "execution_count": null,
      "metadata": {
        "id": "v0S48I_gDaJ3",
        "colab": {
          "base_uri": "https://localhost:8080/"
        },
        "outputId": "8946aa2d-8045-4eb0-f520-5dc68e86ca59"
      },
      "outputs": [
        {
          "output_type": "stream",
          "name": "stdout",
          "text": [
            "Variable x is not defined\n"
          ]
        }
      ],
      "source": [
        "try:\n",
        "  print(x)\n",
        "except NameError:                       #1\n",
        "  print(\"Variable x is not defined\")\n",
        "except:                                 #2\n",
        "  print(\"Something else went wrong\")"
      ]
    },
    {
      "cell_type": "code",
      "source": [
        "def even(x):\n",
        "  try:\n",
        "    if x%2==0:\n",
        "      return \"even\"\n",
        "    else:\n",
        "      raise Exception\n",
        "  except:\n",
        "    return(\"odd\")\n",
        "  finally:\n",
        "    return \"integer\"\n",
        "\n",
        "print(even(5))    #A\n",
        "print(even(4))    #B"
      ],
      "metadata": {
        "colab": {
          "base_uri": "https://localhost:8080/"
        },
        "id": "k6eihBq-E4kb",
        "outputId": "44909455-9ee3-4d51-c5fe-226a08becc20"
      },
      "execution_count": null,
      "outputs": [
        {
          "output_type": "stream",
          "name": "stdout",
          "text": [
            "integer\n",
            "integer\n"
          ]
        }
      ]
    },
    {
      "cell_type": "code",
      "source": [
        "import random\n",
        "\n",
        "array = list(range(100))\n",
        "random.shuffle(array)\n",
        "while len(array) != 0:\n",
        "      print(array.pop(),end=' ')"
      ],
      "metadata": {
        "colab": {
          "base_uri": "https://localhost:8080/"
        },
        "id": "Lkw5ZW8tGE21",
        "outputId": "5e9bfa29-b33e-4606-ded3-b27126d62d81"
      },
      "execution_count": null,
      "outputs": [
        {
          "output_type": "stream",
          "name": "stdout",
          "text": [
            "76 53 60 49 6 4 2 44 5 29 58 32 77 39 72 83 24 85 34 25 3 80 10 86 73 71 35 47 63 28 45 1 88 89 37 96 52 22 98 65 46 75 43 95 50 14 92 19 82 81 42 15 33 90 21 84 87 31 8 66 70 13 74 11 36 38 20 30 68 18 93 41 51 91 78 64 0 59 9 55 56 26 99 97 23 40 27 54 94 12 7 17 79 16 69 57 62 61 48 67 "
          ]
        }
      ]
    },
    {
      "cell_type": "code",
      "source": [
        "import math\n",
        "import numpy as np\n",
        "a=[1,2,3,45]\n",
        "np.mean(a)\n",
        "np.std(a)"
      ],
      "metadata": {
        "colab": {
          "base_uri": "https://localhost:8080/"
        },
        "id": "uZEyp9oJHU0i",
        "outputId": "4bd0dd96-fc42-4fad-f05f-dc5d6d7f1d42"
      },
      "execution_count": null,
      "outputs": [
        {
          "output_type": "execute_result",
          "data": {
            "text/plain": [
              "18.632968094214082"
            ]
          },
          "metadata": {},
          "execution_count": 6
        }
      ]
    }
  ]
}